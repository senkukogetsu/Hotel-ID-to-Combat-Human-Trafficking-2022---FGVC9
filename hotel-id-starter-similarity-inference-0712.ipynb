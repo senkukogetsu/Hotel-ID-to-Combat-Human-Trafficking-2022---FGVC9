{
 "cells": [
  {
   "cell_type": "markdown",
   "id": "98dfea7f",
   "metadata": {
    "papermill": {
     "duration": 0.017963,
     "end_time": "2022-07-13T07:18:26.914097",
     "exception": false,
     "start_time": "2022-07-13T07:18:26.896134",
     "status": "completed"
    },
    "tags": []
   },
   "source": [
    "https://www.kaggle.com/code/michaln/hotel-id-starter-similarity-inference"
   ]
  },
  {
   "cell_type": "code",
   "execution_count": 1,
   "id": "faa87a86",
   "metadata": {
    "execution": {
     "iopub.execute_input": "2022-07-13T07:18:26.960070Z",
     "iopub.status.busy": "2022-07-13T07:18:26.959351Z",
     "iopub.status.idle": "2022-07-13T07:18:26.962675Z",
     "shell.execute_reply": "2022-07-13T07:18:26.963118Z",
     "shell.execute_reply.started": "2022-07-13T07:17:29.695111Z"
    },
    "papermill": {
     "duration": 0.030628,
     "end_time": "2022-07-13T07:18:26.963349",
     "exception": false,
     "start_time": "2022-07-13T07:18:26.932721",
     "status": "completed"
    },
    "tags": []
   },
   "outputs": [],
   "source": [
    "import sys\n",
    "sys.path.append('../input/timm-pytorch-image-models/pytorch-image-models-master')"
   ]
  },
  {
   "cell_type": "code",
   "execution_count": 2,
   "id": "86aa3a7f",
   "metadata": {
    "execution": {
     "iopub.execute_input": "2022-07-13T07:18:27.002366Z",
     "iopub.status.busy": "2022-07-13T07:18:27.001675Z",
     "iopub.status.idle": "2022-07-13T07:18:31.561613Z",
     "shell.execute_reply": "2022-07-13T07:18:31.560486Z",
     "shell.execute_reply.started": "2022-07-13T07:17:29.725502Z"
    },
    "papermill": {
     "duration": 4.582117,
     "end_time": "2022-07-13T07:18:31.561764",
     "exception": false,
     "start_time": "2022-07-13T07:18:26.979647",
     "status": "completed"
    },
    "tags": []
   },
   "outputs": [],
   "source": [
    "import numpy as np\n",
    "import pandas as pd\n",
    "import random\n",
    "import os\n",
    "import math\n",
    "\n",
    "from PIL import Image as pil_image\n",
    "from tqdm import tqdm\n",
    "\n",
    "import torch\n",
    "import torch.nn as nn\n",
    "from torch.utils.data import DataLoader\n",
    "\n",
    "import timm\n",
    "from sklearn.metrics.pairwise import cosine_similarity"
   ]
  },
  {
   "cell_type": "code",
   "execution_count": 3,
   "id": "44c9444e",
   "metadata": {
    "execution": {
     "iopub.execute_input": "2022-07-13T07:18:31.602284Z",
     "iopub.status.busy": "2022-07-13T07:18:31.601290Z",
     "iopub.status.idle": "2022-07-13T07:18:31.603357Z",
     "shell.execute_reply": "2022-07-13T07:18:31.603860Z",
     "shell.execute_reply.started": "2022-07-13T07:17:34.137141Z"
    },
    "papermill": {
     "duration": 0.023635,
     "end_time": "2022-07-13T07:18:31.603991",
     "exception": false,
     "start_time": "2022-07-13T07:18:31.580356",
     "status": "completed"
    },
    "tags": []
   },
   "outputs": [],
   "source": [
    "SEED = 42\n",
    "IMG_SIZE = 256\n",
    "N_MATCHES = 5\n",
    "\n",
    "PROJECT_FOLDER = \"../input/hotel-id-to-combat-human-trafficking-2022-fgvc9/\"\n",
    "TRAIN_DATA_FOLDER = \"../input/hotelid-2022-train-images-256x256/images/\"\n",
    "TEST_DATA_FOLDER = PROJECT_FOLDER + \"test_images/\""
   ]
  },
  {
   "cell_type": "code",
   "execution_count": 4,
   "id": "68a3e361",
   "metadata": {
    "execution": {
     "iopub.execute_input": "2022-07-13T07:18:31.641901Z",
     "iopub.status.busy": "2022-07-13T07:18:31.640910Z",
     "iopub.status.idle": "2022-07-13T07:18:31.645147Z",
     "shell.execute_reply": "2022-07-13T07:18:31.644625Z",
     "shell.execute_reply.started": "2022-07-13T07:17:34.143787Z"
    },
    "papermill": {
     "duration": 0.024275,
     "end_time": "2022-07-13T07:18:31.645263",
     "exception": false,
     "start_time": "2022-07-13T07:18:31.620988",
     "status": "completed"
    },
    "tags": []
   },
   "outputs": [
    {
     "name": "stdout",
     "output_type": "stream",
     "text": [
      "['sample_submission.csv', 'train_images', 'train_masks', 'test_images']\n"
     ]
    }
   ],
   "source": [
    "print(os.listdir(PROJECT_FOLDER))"
   ]
  },
  {
   "cell_type": "code",
   "execution_count": 5,
   "id": "e8e379af",
   "metadata": {
    "execution": {
     "iopub.execute_input": "2022-07-13T07:18:31.684375Z",
     "iopub.status.busy": "2022-07-13T07:18:31.683715Z",
     "iopub.status.idle": "2022-07-13T07:18:31.686300Z",
     "shell.execute_reply": "2022-07-13T07:18:31.685789Z",
     "shell.execute_reply.started": "2022-07-13T07:17:34.158705Z"
    },
    "papermill": {
     "duration": 0.023726,
     "end_time": "2022-07-13T07:18:31.686405",
     "exception": false,
     "start_time": "2022-07-13T07:18:31.662679",
     "status": "completed"
    },
    "tags": []
   },
   "outputs": [],
   "source": [
    "def seed_everything(seed):\n",
    "    random.seed(seed)\n",
    "    os.environ['PYTHONHASHSEED'] = str(seed)\n",
    "    np.random.seed(seed)\n",
    "    torch.manual_seed(seed)\n",
    "    torch.cuda.manual_seed(seed)\n",
    "    torch.backends.cudnn.deterministic = True"
   ]
  },
  {
   "cell_type": "code",
   "execution_count": 6,
   "id": "ff808641",
   "metadata": {
    "execution": {
     "iopub.execute_input": "2022-07-13T07:18:31.724831Z",
     "iopub.status.busy": "2022-07-13T07:18:31.724213Z",
     "iopub.status.idle": "2022-07-13T07:18:33.045359Z",
     "shell.execute_reply": "2022-07-13T07:18:33.044881Z",
     "shell.execute_reply.started": "2022-07-13T07:17:34.166785Z"
    },
    "papermill": {
     "duration": 1.342523,
     "end_time": "2022-07-13T07:18:33.045516",
     "exception": false,
     "start_time": "2022-07-13T07:18:31.702993",
     "status": "completed"
    },
    "tags": []
   },
   "outputs": [],
   "source": [
    "import albumentations as A\n",
    "import albumentations.pytorch as APT\n",
    "import cv2 \n",
    "\n",
    "base_transform = A.Compose([\n",
    "    A.ToFloat(),\n",
    "    APT.transforms.ToTensorV2(),\n",
    "])"
   ]
  },
  {
   "cell_type": "code",
   "execution_count": 7,
   "id": "37eca1dd",
   "metadata": {
    "execution": {
     "iopub.execute_input": "2022-07-13T07:18:33.082626Z",
     "iopub.status.busy": "2022-07-13T07:18:33.081806Z",
     "iopub.status.idle": "2022-07-13T07:18:33.088822Z",
     "shell.execute_reply": "2022-07-13T07:18:33.088375Z",
     "shell.execute_reply.started": "2022-07-13T07:17:35.433729Z"
    },
    "papermill": {
     "duration": 0.026196,
     "end_time": "2022-07-13T07:18:33.088934",
     "exception": false,
     "start_time": "2022-07-13T07:18:33.062738",
     "status": "completed"
    },
    "tags": []
   },
   "outputs": [],
   "source": [
    "def pad_image(img):\n",
    "    w, h, c = np.shape(img)\n",
    "    if w > h:\n",
    "        pad = int((w - h) / 2)\n",
    "        img = cv2.copyMakeBorder(img, 0, 0, pad, pad, cv2.BORDER_CONSTANT, value=0)\n",
    "    else:\n",
    "        pad = int((h - w) / 2)\n",
    "        img = cv2.copyMakeBorder(img, pad, pad, 0, 0, cv2.BORDER_CONSTANT, value=0)\n",
    "        \n",
    "    return img\n",
    "\n",
    "\n",
    "def open_and_preprocess_image(image_path):\n",
    "    img = cv2.imread(image_path)\n",
    "    img = cv2.cvtColor(img, cv2.COLOR_BGR2RGB)\n",
    "    img = pad_image(img)\n",
    "    return cv2.resize(img, (IMG_SIZE, IMG_SIZE))"
   ]
  },
  {
   "cell_type": "code",
   "execution_count": 8,
   "id": "4fff6bd5",
   "metadata": {
    "execution": {
     "iopub.execute_input": "2022-07-13T07:18:33.129569Z",
     "iopub.status.busy": "2022-07-13T07:18:33.128780Z",
     "iopub.status.idle": "2022-07-13T07:18:33.131062Z",
     "shell.execute_reply": "2022-07-13T07:18:33.130667Z",
     "shell.execute_reply.started": "2022-07-13T07:17:35.444039Z"
    },
    "papermill": {
     "duration": 0.025648,
     "end_time": "2022-07-13T07:18:33.131168",
     "exception": false,
     "start_time": "2022-07-13T07:18:33.105520",
     "status": "completed"
    },
    "tags": []
   },
   "outputs": [],
   "source": [
    "class HotelImageDataset:\n",
    "    def __init__(self, data, transform=None, data_folder=\"train_images/\"):\n",
    "        self.data = data\n",
    "        self.data_folder = data_folder\n",
    "        self.transform = transform\n",
    "\n",
    "    def __len__(self):\n",
    "        return len(self.data)\n",
    "    \n",
    "    def __getitem__(self, idx):\n",
    "        record = self.data.iloc[idx]\n",
    "        image_path = self.data_folder + record[\"image_id\"]\n",
    "        \n",
    "        image = np.array(open_and_preprocess_image(image_path)).astype(np.uint8)\n",
    "\n",
    "        if self.transform:\n",
    "            transformed = self.transform(image=image)\n",
    "            image = transformed[\"image\"]\n",
    "        \n",
    "        return {\n",
    "            \"image\" : image,\n",
    "        }"
   ]
  },
  {
   "cell_type": "code",
   "execution_count": 9,
   "id": "cde5c604",
   "metadata": {
    "execution": {
     "iopub.execute_input": "2022-07-13T07:18:33.170976Z",
     "iopub.status.busy": "2022-07-13T07:18:33.170308Z",
     "iopub.status.idle": "2022-07-13T07:18:33.172707Z",
     "shell.execute_reply": "2022-07-13T07:18:33.173182Z",
     "shell.execute_reply.started": "2022-07-13T07:17:35.456786Z"
    },
    "papermill": {
     "duration": 0.025882,
     "end_time": "2022-07-13T07:18:33.173303",
     "exception": false,
     "start_time": "2022-07-13T07:18:33.147421",
     "status": "completed"
    },
    "tags": []
   },
   "outputs": [],
   "source": [
    "class EmbeddingModel(nn.Module):\n",
    "    def __init__(self, n_classes=100, embedding_size=64, backbone_name=\"efficientnet_b0\"):\n",
    "        super(EmbeddingModel, self).__init__()\n",
    "        \n",
    "        self.backbone = timm.create_model(backbone_name, num_classes=n_classes, pretrained=False)\n",
    "        in_features = self.backbone.get_classifier().in_features\n",
    "        \n",
    "        self.backbone.classifier = nn.Identity()\n",
    "        self.embedding = nn.Linear(in_features, embedding_size)\n",
    "        self.classifier = nn.Linear(embedding_size, n_classes)\n",
    "\n",
    "    def embed_and_classify(self, x):\n",
    "        x = self.forward(x)\n",
    "        return x, self.classifier(x)\n",
    "\n",
    "    def forward(self, x):\n",
    "        x = self.backbone(x)\n",
    "        x = x.view(x.size(0), -1)\n",
    "        x = self.embedding(x)\n",
    "        return x"
   ]
  },
  {
   "cell_type": "code",
   "execution_count": 10,
   "id": "80557535",
   "metadata": {
    "execution": {
     "iopub.execute_input": "2022-07-13T07:18:33.212012Z",
     "iopub.status.busy": "2022-07-13T07:18:33.211258Z",
     "iopub.status.idle": "2022-07-13T07:18:33.213598Z",
     "shell.execute_reply": "2022-07-13T07:18:33.213187Z",
     "shell.execute_reply.started": "2022-07-13T07:17:35.470147Z"
    },
    "papermill": {
     "duration": 0.023667,
     "end_time": "2022-07-13T07:18:33.213704",
     "exception": false,
     "start_time": "2022-07-13T07:18:33.190037",
     "status": "completed"
    },
    "tags": []
   },
   "outputs": [],
   "source": [
    "def generate_embeddings(args, loader, model, bar_desc=\"Generating embeds\"):\n",
    "    outputs_all = []\n",
    "    \n",
    "    model.eval()\n",
    "    with torch.no_grad():\n",
    "        t = tqdm(loader, desc=bar_desc)\n",
    "        for i, sample in enumerate(t):\n",
    "            input = sample['image'].to(args.device)\n",
    "            output = model(input)\n",
    "            outputs_all.extend(output.detach().cpu().numpy())\n",
    "            \n",
    "    return outputs_all"
   ]
  },
  {
   "cell_type": "code",
   "execution_count": 11,
   "id": "4764d9c1",
   "metadata": {
    "execution": {
     "iopub.execute_input": "2022-07-13T07:18:33.255176Z",
     "iopub.status.busy": "2022-07-13T07:18:33.254335Z",
     "iopub.status.idle": "2022-07-13T07:18:33.256824Z",
     "shell.execute_reply": "2022-07-13T07:18:33.257259Z",
     "shell.execute_reply.started": "2022-07-13T07:17:35.482891Z"
    },
    "papermill": {
     "duration": 0.026687,
     "end_time": "2022-07-13T07:18:33.257374",
     "exception": false,
     "start_time": "2022-07-13T07:18:33.230687",
     "status": "completed"
    },
    "tags": []
   },
   "outputs": [],
   "source": [
    "def find_matches(query, base_embeds, base_targets, k=N_MATCHES):\n",
    "    distance_df = pd.DataFrame(index=np.arange(len(base_targets)), data={\"hotel_id\": base_targets})\n",
    "    # calculate cosine distance of query embeds to all base embeds\n",
    "    distance_df[\"distance\"] = cosine_similarity([query], list(base_embeds))[0]\n",
    "    # sort by distance and hotel_id\n",
    "    distance_df = distance_df.sort_values(by=[\"distance\", \"hotel_id\"], ascending=False).reset_index(drop=True)\n",
    "    # return first 5 different hotel_id_codes\n",
    "    return distance_df[\"hotel_id\"].unique()[:N_MATCHES]\n",
    "\n",
    "\n",
    "def predict(args, base_embeddings_df, test_loader, model):\n",
    "    test_embeds = generate_embeddings(args, test_loader, model, \"Generate test embeddings\")\n",
    "    \n",
    "    preds = []\n",
    "    for query_embeds in tqdm(test_embeds, desc=\"Similarity - match finding\"):\n",
    "        tmp = find_matches(query_embeds, \n",
    "                           base_embeddings_df[\"embeddings\"].values, \n",
    "                           base_embeddings_df[\"hotel_id\"].values)\n",
    "        preds.extend([tmp])\n",
    "        \n",
    "    return preds"
   ]
  },
  {
   "cell_type": "code",
   "execution_count": 12,
   "id": "23c9aff8",
   "metadata": {
    "execution": {
     "iopub.execute_input": "2022-07-13T07:18:33.294428Z",
     "iopub.status.busy": "2022-07-13T07:18:33.293911Z",
     "iopub.status.idle": "2022-07-13T07:18:33.309162Z",
     "shell.execute_reply": "2022-07-13T07:18:33.309601Z",
     "shell.execute_reply.started": "2022-07-13T07:17:35.494132Z"
    },
    "papermill": {
     "duration": 0.035529,
     "end_time": "2022-07-13T07:18:33.309725",
     "exception": false,
     "start_time": "2022-07-13T07:18:33.274196",
     "status": "completed"
    },
    "tags": []
   },
   "outputs": [],
   "source": [
    "test_df = pd.DataFrame(data={\"image_id\": os.listdir(TEST_DATA_FOLDER), \"hotel_id\": \"\"}).sort_values(by=\"image_id\")"
   ]
  },
  {
   "cell_type": "code",
   "execution_count": 13,
   "id": "e68d3f84",
   "metadata": {
    "execution": {
     "iopub.execute_input": "2022-07-13T07:18:33.349233Z",
     "iopub.status.busy": "2022-07-13T07:18:33.348453Z",
     "iopub.status.idle": "2022-07-13T07:18:33.350412Z",
     "shell.execute_reply": "2022-07-13T07:18:33.350793Z",
     "shell.execute_reply.started": "2022-07-13T07:17:35.520670Z"
    },
    "papermill": {
     "duration": 0.023385,
     "end_time": "2022-07-13T07:18:33.350911",
     "exception": false,
     "start_time": "2022-07-13T07:18:33.327526",
     "status": "completed"
    },
    "tags": []
   },
   "outputs": [],
   "source": [
    "def get_model(backbone_name, checkpoint_path, args):\n",
    "    model = EmbeddingModel(args.n_classes, args.embedding_size, backbone_name)\n",
    "        \n",
    "    checkpoint = torch.load(checkpoint_path)\n",
    "    model.load_state_dict(checkpoint[\"model\"])\n",
    "    model = model.to(args.device)\n",
    "    \n",
    "    return model"
   ]
  },
  {
   "cell_type": "code",
   "execution_count": 14,
   "id": "b706bfcf",
   "metadata": {
    "execution": {
     "iopub.execute_input": "2022-07-13T07:18:33.386913Z",
     "iopub.status.busy": "2022-07-13T07:18:33.386121Z",
     "iopub.status.idle": "2022-07-13T07:18:33.451101Z",
     "shell.execute_reply": "2022-07-13T07:18:33.450615Z",
     "shell.execute_reply.started": "2022-07-13T07:17:35.528069Z"
    },
    "papermill": {
     "duration": 0.083422,
     "end_time": "2022-07-13T07:18:33.451217",
     "exception": false,
     "start_time": "2022-07-13T07:18:33.367795",
     "status": "completed"
    },
    "tags": []
   },
   "outputs": [],
   "source": [
    "class args:\n",
    "    batch_size = 64\n",
    "    num_workers = 2\n",
    "    embedding_size = 128\n",
    "    device = ('cuda' if torch.cuda.is_available() else 'cpu')\n",
    "    \n",
    "    \n",
    "seed_everything(seed=SEED)\n",
    "\n",
    "test_dataset = HotelImageDataset(test_df, base_transform, data_folder=TEST_DATA_FOLDER)\n",
    "test_loader  = DataLoader(test_dataset, num_workers=args.num_workers, batch_size=args.batch_size, shuffle=False)"
   ]
  },
  {
   "cell_type": "code",
   "execution_count": 15,
   "id": "dc5ffd69",
   "metadata": {
    "execution": {
     "iopub.execute_input": "2022-07-13T07:18:33.488400Z",
     "iopub.status.busy": "2022-07-13T07:18:33.487836Z",
     "iopub.status.idle": "2022-07-13T07:18:33.948201Z",
     "shell.execute_reply": "2022-07-13T07:18:33.948638Z",
     "shell.execute_reply.started": "2022-07-13T07:17:35.604397Z"
    },
    "papermill": {
     "duration": 0.48078,
     "end_time": "2022-07-13T07:18:33.948792",
     "exception": false,
     "start_time": "2022-07-13T07:18:33.468012",
     "status": "completed"
    },
    "tags": []
   },
   "outputs": [
    {
     "data": {
      "text/html": [
       "<div>\n",
       "<style scoped>\n",
       "    .dataframe tbody tr th:only-of-type {\n",
       "        vertical-align: middle;\n",
       "    }\n",
       "\n",
       "    .dataframe tbody tr th {\n",
       "        vertical-align: top;\n",
       "    }\n",
       "\n",
       "    .dataframe thead th {\n",
       "        text-align: right;\n",
       "    }\n",
       "</style>\n",
       "<table border=\"1\" class=\"dataframe\">\n",
       "  <thead>\n",
       "    <tr style=\"text-align: right;\">\n",
       "      <th></th>\n",
       "      <th>image_id</th>\n",
       "      <th>hotel_id</th>\n",
       "      <th>hotel_id_code</th>\n",
       "      <th>embeddings</th>\n",
       "    </tr>\n",
       "  </thead>\n",
       "  <tbody>\n",
       "    <tr>\n",
       "      <th>0</th>\n",
       "      <td>000011648.jpg</td>\n",
       "      <td>15526</td>\n",
       "      <td>603</td>\n",
       "      <td>[0.7343427, -6.810312, 3.0736682, -0.9542183, ...</td>\n",
       "    </tr>\n",
       "    <tr>\n",
       "      <th>1</th>\n",
       "      <td>000011630.jpg</td>\n",
       "      <td>15526</td>\n",
       "      <td>603</td>\n",
       "      <td>[-1.7600366, -4.077656, -0.62710977, 4.5526156...</td>\n",
       "    </tr>\n",
       "    <tr>\n",
       "      <th>2</th>\n",
       "      <td>000011650.jpg</td>\n",
       "      <td>15526</td>\n",
       "      <td>603</td>\n",
       "      <td>[1.2363671, -6.767986, -0.64466625, 5.909046, ...</td>\n",
       "    </tr>\n",
       "    <tr>\n",
       "      <th>3</th>\n",
       "      <td>000011633.jpg</td>\n",
       "      <td>15526</td>\n",
       "      <td>603</td>\n",
       "      <td>[1.2113099, -3.0038002, -0.43612134, 1.2153145...</td>\n",
       "    </tr>\n",
       "    <tr>\n",
       "      <th>4</th>\n",
       "      <td>000011656.jpg</td>\n",
       "      <td>15526</td>\n",
       "      <td>603</td>\n",
       "      <td>[-1.6428022, -2.630741, 2.1904285, -1.4894655,...</td>\n",
       "    </tr>\n",
       "  </tbody>\n",
       "</table>\n",
       "</div>"
      ],
      "text/plain": [
       "        image_id  hotel_id  hotel_id_code  \\\n",
       "0  000011648.jpg     15526            603   \n",
       "1  000011630.jpg     15526            603   \n",
       "2  000011650.jpg     15526            603   \n",
       "3  000011633.jpg     15526            603   \n",
       "4  000011656.jpg     15526            603   \n",
       "\n",
       "                                          embeddings  \n",
       "0  [0.7343427, -6.810312, 3.0736682, -0.9542183, ...  \n",
       "1  [-1.7600366, -4.077656, -0.62710977, 4.5526156...  \n",
       "2  [1.2363671, -6.767986, -0.64466625, 5.909046, ...  \n",
       "3  [1.2113099, -3.0038002, -0.43612134, 1.2153145...  \n",
       "4  [-1.6428022, -2.630741, 2.1904285, -1.4894655,...  "
      ]
     },
     "metadata": {},
     "output_type": "display_data"
    }
   ],
   "source": [
    "base_embeddings_df = pd.read_pickle('../input/hotel-id-starter-similarity-training-0712/embedding-model-efficientnet_b0-256x256_image-embeddings.pkl')\n",
    "display(base_embeddings_df.head())"
   ]
  },
  {
   "cell_type": "code",
   "execution_count": 16,
   "id": "c3938b50",
   "metadata": {
    "execution": {
     "iopub.execute_input": "2022-07-13T07:18:33.986947Z",
     "iopub.status.busy": "2022-07-13T07:18:33.986167Z",
     "iopub.status.idle": "2022-07-13T07:18:38.430677Z",
     "shell.execute_reply": "2022-07-13T07:18:38.430181Z",
     "shell.execute_reply.started": "2022-07-13T07:17:36.102569Z"
    },
    "papermill": {
     "duration": 4.464517,
     "end_time": "2022-07-13T07:18:38.430808",
     "exception": false,
     "start_time": "2022-07-13T07:18:33.966291",
     "status": "completed"
    },
    "tags": []
   },
   "outputs": [],
   "source": [
    "args.n_classes = base_embeddings_df[\"hotel_id\"].nunique()\n",
    "\n",
    "model = get_model(\"efficientnet_b0\",\n",
    "                  \"../input/hotel-id-starter-similarity-training-0712/checkpoint-embedding-model-efficientnet_b0-256x256.pt\", \n",
    "                  args)"
   ]
  },
  {
   "cell_type": "code",
   "execution_count": 17,
   "id": "2f8286b6",
   "metadata": {
    "execution": {
     "iopub.execute_input": "2022-07-13T07:18:38.468064Z",
     "iopub.status.busy": "2022-07-13T07:18:38.467285Z",
     "iopub.status.idle": "2022-07-13T07:18:45.173118Z",
     "shell.execute_reply": "2022-07-13T07:18:45.174452Z",
     "shell.execute_reply.started": "2022-07-13T07:17:40.826998Z"
    },
    "papermill": {
     "duration": 6.7267,
     "end_time": "2022-07-13T07:18:45.174739",
     "exception": false,
     "start_time": "2022-07-13T07:18:38.448039",
     "status": "completed"
    },
    "tags": []
   },
   "outputs": [
    {
     "name": "stderr",
     "output_type": "stream",
     "text": [
      "Generate test embeddings: 100%|██████████| 1/1 [00:06<00:00,  6.56s/it]\n",
      "Similarity - match finding: 100%|██████████| 1/1 [00:00<00:00,  9.42it/s]"
     ]
    },
    {
     "name": "stdout",
     "output_type": "stream",
     "text": [
      "CPU times: user 1.01 s, sys: 790 ms, total: 1.8 s\n",
      "Wall time: 6.69 s\n"
     ]
    },
    {
     "name": "stderr",
     "output_type": "stream",
     "text": [
      "\n"
     ]
    },
    {
     "data": {
      "text/html": [
       "<div>\n",
       "<style scoped>\n",
       "    .dataframe tbody tr th:only-of-type {\n",
       "        vertical-align: middle;\n",
       "    }\n",
       "\n",
       "    .dataframe tbody tr th {\n",
       "        vertical-align: top;\n",
       "    }\n",
       "\n",
       "    .dataframe thead th {\n",
       "        text-align: right;\n",
       "    }\n",
       "</style>\n",
       "<table border=\"1\" class=\"dataframe\">\n",
       "  <thead>\n",
       "    <tr style=\"text-align: right;\">\n",
       "      <th></th>\n",
       "      <th>image_id</th>\n",
       "      <th>hotel_id</th>\n",
       "    </tr>\n",
       "  </thead>\n",
       "  <tbody>\n",
       "    <tr>\n",
       "      <th>0</th>\n",
       "      <td>abc.jpg</td>\n",
       "      <td>206615 198828 90560 309373 91979</td>\n",
       "    </tr>\n",
       "  </tbody>\n",
       "</table>\n",
       "</div>"
      ],
      "text/plain": [
       "  image_id                          hotel_id\n",
       "0  abc.jpg  206615 198828 90560 309373 91979"
      ]
     },
     "execution_count": 17,
     "metadata": {},
     "output_type": "execute_result"
    }
   ],
   "source": [
    "%%time\n",
    "\n",
    "preds = predict(args, base_embeddings_df, test_loader, model)\n",
    "# transform array of hotel_ids into string\n",
    "test_df[\"hotel_id\"] = [str(list(l)).strip(\"[]\").replace(\",\", \"\") for l in preds]\n",
    "\n",
    "test_df.to_csv(\"submission.csv\", index=False)\n",
    "test_df.head()"
   ]
  },
  {
   "cell_type": "code",
   "execution_count": null,
   "id": "3548323a",
   "metadata": {
    "papermill": {
     "duration": 0.030085,
     "end_time": "2022-07-13T07:18:45.243449",
     "exception": false,
     "start_time": "2022-07-13T07:18:45.213364",
     "status": "completed"
    },
    "tags": []
   },
   "outputs": [],
   "source": []
  }
 ],
 "metadata": {
  "kernelspec": {
   "display_name": "Python 3",
   "language": "python",
   "name": "python3"
  },
  "language_info": {
   "codemirror_mode": {
    "name": "ipython",
    "version": 3
   },
   "file_extension": ".py",
   "mimetype": "text/x-python",
   "name": "python",
   "nbconvert_exporter": "python",
   "pygments_lexer": "ipython3",
   "version": "3.7.12"
  },
  "papermill": {
   "default_parameters": {},
   "duration": 29.154757,
   "end_time": "2022-07-13T07:18:46.976480",
   "environment_variables": {},
   "exception": null,
   "input_path": "__notebook__.ipynb",
   "output_path": "__notebook__.ipynb",
   "parameters": {},
   "start_time": "2022-07-13T07:18:17.821723",
   "version": "2.3.3"
  }
 },
 "nbformat": 4,
 "nbformat_minor": 5
}

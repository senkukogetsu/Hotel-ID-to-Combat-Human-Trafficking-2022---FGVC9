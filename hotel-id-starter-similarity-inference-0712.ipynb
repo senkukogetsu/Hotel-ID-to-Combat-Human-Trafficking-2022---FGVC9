{
 "cells": [
  {
   "cell_type": "markdown",
   "id": "dc2acf98",
   "metadata": {
    "papermill": {
     "duration": 0.017465,
     "end_time": "2022-07-19T09:24:57.656099",
     "exception": false,
     "start_time": "2022-07-19T09:24:57.638634",
     "status": "completed"
    },
    "tags": []
   },
   "source": [
    "https://www.kaggle.com/code/michaln/hotel-id-starter-similarity-inference"
   ]
  },
  {
   "cell_type": "code",
   "execution_count": 1,
   "id": "1c45a2d2",
   "metadata": {
    "execution": {
     "iopub.execute_input": "2022-07-19T09:24:57.699152Z",
     "iopub.status.busy": "2022-07-19T09:24:57.697602Z",
     "iopub.status.idle": "2022-07-19T09:24:57.702477Z",
     "shell.execute_reply": "2022-07-19T09:24:57.702005Z",
     "shell.execute_reply.started": "2022-07-19T09:23:47.369799Z"
    },
    "papermill": {
     "duration": 0.029577,
     "end_time": "2022-07-19T09:24:57.702601",
     "exception": false,
     "start_time": "2022-07-19T09:24:57.673024",
     "status": "completed"
    },
    "tags": []
   },
   "outputs": [],
   "source": [
    "import sys\n",
    "sys.path.append('../input/timm-pytorch-image-models/pytorch-image-models-master')"
   ]
  },
  {
   "cell_type": "code",
   "execution_count": 2,
   "id": "f5191e6e",
   "metadata": {
    "execution": {
     "iopub.execute_input": "2022-07-19T09:24:57.740775Z",
     "iopub.status.busy": "2022-07-19T09:24:57.739652Z",
     "iopub.status.idle": "2022-07-19T09:25:02.419369Z",
     "shell.execute_reply": "2022-07-19T09:25:02.419787Z",
     "shell.execute_reply.started": "2022-07-19T09:23:47.399010Z"
    },
    "papermill": {
     "duration": 4.700924,
     "end_time": "2022-07-19T09:25:02.419992",
     "exception": false,
     "start_time": "2022-07-19T09:24:57.719068",
     "status": "completed"
    },
    "tags": []
   },
   "outputs": [],
   "source": [
    "import numpy as np\n",
    "import pandas as pd\n",
    "import random\n",
    "import os\n",
    "import math\n",
    "\n",
    "from PIL import Image as pil_image\n",
    "from tqdm import tqdm\n",
    "\n",
    "import torch\n",
    "import torch.nn as nn\n",
    "from torch.utils.data import DataLoader\n",
    "\n",
    "import timm\n",
    "from sklearn.metrics.pairwise import cosine_similarity"
   ]
  },
  {
   "cell_type": "code",
   "execution_count": 3,
   "id": "dba9cc9f",
   "metadata": {
    "execution": {
     "iopub.execute_input": "2022-07-19T09:25:02.458479Z",
     "iopub.status.busy": "2022-07-19T09:25:02.457690Z",
     "iopub.status.idle": "2022-07-19T09:25:02.460229Z",
     "shell.execute_reply": "2022-07-19T09:25:02.459791Z",
     "shell.execute_reply.started": "2022-07-19T09:23:47.426554Z"
    },
    "papermill": {
     "duration": 0.023497,
     "end_time": "2022-07-19T09:25:02.460335",
     "exception": false,
     "start_time": "2022-07-19T09:25:02.436838",
     "status": "completed"
    },
    "tags": []
   },
   "outputs": [],
   "source": [
    "SEED = 42\n",
    "IMG_SIZE = 256\n",
    "N_MATCHES = 5\n",
    "\n",
    "PROJECT_FOLDER = \"../input/hotel-id-to-combat-human-trafficking-2022-fgvc9/\"\n",
    "TRAIN_DATA_FOLDER = \"../input/hotelid-2022-train-images-256x256/images/\"\n",
    "TEST_DATA_FOLDER = PROJECT_FOLDER + \"test_images/\""
   ]
  },
  {
   "cell_type": "code",
   "execution_count": 4,
   "id": "81153aba",
   "metadata": {
    "execution": {
     "iopub.execute_input": "2022-07-19T09:25:02.498642Z",
     "iopub.status.busy": "2022-07-19T09:25:02.497784Z",
     "iopub.status.idle": "2022-07-19T09:25:02.501238Z",
     "shell.execute_reply": "2022-07-19T09:25:02.501632Z",
     "shell.execute_reply.started": "2022-07-19T09:23:47.456584Z"
    },
    "papermill": {
     "duration": 0.02389,
     "end_time": "2022-07-19T09:25:02.501746",
     "exception": false,
     "start_time": "2022-07-19T09:25:02.477856",
     "status": "completed"
    },
    "tags": []
   },
   "outputs": [
    {
     "name": "stdout",
     "output_type": "stream",
     "text": [
      "['sample_submission.csv', 'train_images', 'train_masks', 'test_images']\n"
     ]
    }
   ],
   "source": [
    "print(os.listdir(PROJECT_FOLDER))"
   ]
  },
  {
   "cell_type": "code",
   "execution_count": 5,
   "id": "b3d0a6e3",
   "metadata": {
    "execution": {
     "iopub.execute_input": "2022-07-19T09:25:02.541039Z",
     "iopub.status.busy": "2022-07-19T09:25:02.540448Z",
     "iopub.status.idle": "2022-07-19T09:25:02.543417Z",
     "shell.execute_reply": "2022-07-19T09:25:02.543823Z",
     "shell.execute_reply.started": "2022-07-19T09:23:47.493159Z"
    },
    "papermill": {
     "duration": 0.02482,
     "end_time": "2022-07-19T09:25:02.544006",
     "exception": false,
     "start_time": "2022-07-19T09:25:02.519186",
     "status": "completed"
    },
    "tags": []
   },
   "outputs": [],
   "source": [
    "def seed_everything(seed):\n",
    "    random.seed(seed)\n",
    "    os.environ['PYTHONHASHSEED'] = str(seed)\n",
    "    np.random.seed(seed)\n",
    "    torch.manual_seed(seed)\n",
    "    torch.cuda.manual_seed(seed)\n",
    "    torch.backends.cudnn.deterministic = True"
   ]
  },
  {
   "cell_type": "code",
   "execution_count": 6,
   "id": "89bf32e6",
   "metadata": {
    "execution": {
     "iopub.execute_input": "2022-07-19T09:25:02.582776Z",
     "iopub.status.busy": "2022-07-19T09:25:02.582149Z",
     "iopub.status.idle": "2022-07-19T09:25:03.772888Z",
     "shell.execute_reply": "2022-07-19T09:25:03.772391Z",
     "shell.execute_reply.started": "2022-07-19T09:23:47.544213Z"
    },
    "papermill": {
     "duration": 1.211586,
     "end_time": "2022-07-19T09:25:03.773029",
     "exception": false,
     "start_time": "2022-07-19T09:25:02.561443",
     "status": "completed"
    },
    "tags": []
   },
   "outputs": [],
   "source": [
    "import albumentations as A\n",
    "import albumentations.pytorch as APT\n",
    "import cv2 \n",
    "\n",
    "base_transform = A.Compose([\n",
    "    A.ToFloat(),\n",
    "    APT.transforms.ToTensorV2(),\n",
    "])"
   ]
  },
  {
   "cell_type": "code",
   "execution_count": 7,
   "id": "522b9116",
   "metadata": {
    "execution": {
     "iopub.execute_input": "2022-07-19T09:25:03.815548Z",
     "iopub.status.busy": "2022-07-19T09:25:03.814792Z",
     "iopub.status.idle": "2022-07-19T09:25:03.817496Z",
     "shell.execute_reply": "2022-07-19T09:25:03.817013Z",
     "shell.execute_reply.started": "2022-07-19T09:23:47.581043Z"
    },
    "papermill": {
     "duration": 0.026628,
     "end_time": "2022-07-19T09:25:03.817599",
     "exception": false,
     "start_time": "2022-07-19T09:25:03.790971",
     "status": "completed"
    },
    "tags": []
   },
   "outputs": [],
   "source": [
    "def pad_image(img):\n",
    "    w, h, c = np.shape(img)\n",
    "    if w > h:\n",
    "        pad = int((w - h) / 2)\n",
    "        img = cv2.copyMakeBorder(img, 0, 0, pad, pad, cv2.BORDER_CONSTANT, value=0)\n",
    "    else:\n",
    "        pad = int((h - w) / 2)\n",
    "        img = cv2.copyMakeBorder(img, pad, pad, 0, 0, cv2.BORDER_CONSTANT, value=0)\n",
    "        \n",
    "    return img\n",
    "\n",
    "\n",
    "def open_and_preprocess_image(image_path):\n",
    "    img = cv2.imread(image_path)\n",
    "    img = cv2.cvtColor(img, cv2.COLOR_BGR2RGB)\n",
    "    img = pad_image(img)\n",
    "    return cv2.resize(img, (IMG_SIZE, IMG_SIZE))"
   ]
  },
  {
   "cell_type": "code",
   "execution_count": 8,
   "id": "dc89d33f",
   "metadata": {
    "execution": {
     "iopub.execute_input": "2022-07-19T09:25:03.858314Z",
     "iopub.status.busy": "2022-07-19T09:25:03.857450Z",
     "iopub.status.idle": "2022-07-19T09:25:03.859483Z",
     "shell.execute_reply": "2022-07-19T09:25:03.859876Z",
     "shell.execute_reply.started": "2022-07-19T09:23:47.609555Z"
    },
    "papermill": {
     "duration": 0.025595,
     "end_time": "2022-07-19T09:25:03.859999",
     "exception": false,
     "start_time": "2022-07-19T09:25:03.834404",
     "status": "completed"
    },
    "tags": []
   },
   "outputs": [],
   "source": [
    "class HotelImageDataset:\n",
    "    def __init__(self, data, transform=None, data_folder=\"train_images/\"):\n",
    "        self.data = data\n",
    "        self.data_folder = data_folder\n",
    "        self.transform = transform\n",
    "\n",
    "    def __len__(self):\n",
    "        return len(self.data)\n",
    "    \n",
    "    def __getitem__(self, idx):\n",
    "        record = self.data.iloc[idx]\n",
    "        image_path = self.data_folder + record[\"image_id\"]\n",
    "        \n",
    "        image = np.array(open_and_preprocess_image(image_path)).astype(np.uint8)\n",
    "\n",
    "        if self.transform:\n",
    "            transformed = self.transform(image=image)\n",
    "            image = transformed[\"image\"]\n",
    "        \n",
    "        return {\n",
    "            \"image\" : image,\n",
    "        }"
   ]
  },
  {
   "cell_type": "code",
   "execution_count": 9,
   "id": "9915cdeb",
   "metadata": {
    "execution": {
     "iopub.execute_input": "2022-07-19T09:25:03.902182Z",
     "iopub.status.busy": "2022-07-19T09:25:03.900692Z",
     "iopub.status.idle": "2022-07-19T09:25:03.902781Z",
     "shell.execute_reply": "2022-07-19T09:25:03.903212Z",
     "shell.execute_reply.started": "2022-07-19T09:23:47.636021Z"
    },
    "papermill": {
     "duration": 0.026169,
     "end_time": "2022-07-19T09:25:03.903345",
     "exception": false,
     "start_time": "2022-07-19T09:25:03.877176",
     "status": "completed"
    },
    "tags": []
   },
   "outputs": [],
   "source": [
    "class EmbeddingModel(nn.Module):\n",
    "    def __init__(self, n_classes=100, embedding_size=64, backbone_name=\"efficientnet_b0\"):\n",
    "        super(EmbeddingModel, self).__init__()\n",
    "        \n",
    "        self.backbone = timm.create_model(backbone_name, num_classes=n_classes, pretrained=False)\n",
    "        in_features = self.backbone.get_classifier().in_features\n",
    "        \n",
    "        self.backbone.classifier = nn.Identity()\n",
    "        self.embedding = nn.Linear(in_features, embedding_size)\n",
    "        self.classifier = nn.Linear(embedding_size, n_classes)\n",
    "\n",
    "    def embed_and_classify(self, x):\n",
    "        x = self.forward(x)\n",
    "        return x, self.classifier(x)\n",
    "\n",
    "    def forward(self, x):\n",
    "        x = self.backbone(x)\n",
    "        x = x.view(x.size(0), -1)\n",
    "        x = self.embedding(x)\n",
    "        return x"
   ]
  },
  {
   "cell_type": "code",
   "execution_count": 10,
   "id": "15bb4736",
   "metadata": {
    "execution": {
     "iopub.execute_input": "2022-07-19T09:25:03.942740Z",
     "iopub.status.busy": "2022-07-19T09:25:03.942016Z",
     "iopub.status.idle": "2022-07-19T09:25:03.944460Z",
     "shell.execute_reply": "2022-07-19T09:25:03.944045Z",
     "shell.execute_reply.started": "2022-07-19T09:23:47.660501Z"
    },
    "papermill": {
     "duration": 0.023867,
     "end_time": "2022-07-19T09:25:03.944557",
     "exception": false,
     "start_time": "2022-07-19T09:25:03.920690",
     "status": "completed"
    },
    "tags": []
   },
   "outputs": [],
   "source": [
    "def generate_embeddings(args, loader, model, bar_desc=\"Generating embeds\"):\n",
    "    outputs_all = []\n",
    "    \n",
    "    model.eval()\n",
    "    with torch.no_grad():\n",
    "        t = tqdm(loader, desc=bar_desc)\n",
    "        for i, sample in enumerate(t):\n",
    "            input = sample['image'].to(args.device)\n",
    "            output = model(input)\n",
    "            outputs_all.extend(output.detach().cpu().numpy())\n",
    "            \n",
    "    return outputs_all"
   ]
  },
  {
   "cell_type": "code",
   "execution_count": 11,
   "id": "d400704e",
   "metadata": {
    "execution": {
     "iopub.execute_input": "2022-07-19T09:25:03.987202Z",
     "iopub.status.busy": "2022-07-19T09:25:03.985556Z",
     "iopub.status.idle": "2022-07-19T09:25:03.987850Z",
     "shell.execute_reply": "2022-07-19T09:25:03.988270Z",
     "shell.execute_reply.started": "2022-07-19T09:23:47.703463Z"
    },
    "papermill": {
     "duration": 0.026784,
     "end_time": "2022-07-19T09:25:03.988386",
     "exception": false,
     "start_time": "2022-07-19T09:25:03.961602",
     "status": "completed"
    },
    "tags": []
   },
   "outputs": [],
   "source": [
    "def find_matches(query, base_embeds, base_targets, k=N_MATCHES):\n",
    "    distance_df = pd.DataFrame(index=np.arange(len(base_targets)), data={\"hotel_id\": base_targets})\n",
    "    # calculate cosine distance of query embeds to all base embeds\n",
    "    distance_df[\"distance\"] = cosine_similarity([query], list(base_embeds))[0]\n",
    "    # sort by distance and hotel_id\n",
    "    distance_df = distance_df.sort_values(by=[\"distance\", \"hotel_id\"], ascending=False).reset_index(drop=True)\n",
    "    # return first 5 different hotel_id_codes\n",
    "    return distance_df[\"hotel_id\"].unique()[:N_MATCHES]\n",
    "\n",
    "\n",
    "def predict(args, base_embeddings_df, test_loader, model):\n",
    "    test_embeds = generate_embeddings(args, test_loader, model, \"Generate test embeddings\")\n",
    "    \n",
    "    preds = []\n",
    "    for query_embeds in tqdm(test_embeds, desc=\"Similarity - match finding\"):\n",
    "        tmp = find_matches(query_embeds, \n",
    "                           base_embeddings_df[\"embeddings\"].values, \n",
    "                           base_embeddings_df[\"hotel_id\"].values)\n",
    "        preds.extend([tmp])\n",
    "        \n",
    "    return preds"
   ]
  },
  {
   "cell_type": "code",
   "execution_count": 12,
   "id": "9a9fb481",
   "metadata": {
    "execution": {
     "iopub.execute_input": "2022-07-19T09:25:04.025786Z",
     "iopub.status.busy": "2022-07-19T09:25:04.025299Z",
     "iopub.status.idle": "2022-07-19T09:25:04.039744Z",
     "shell.execute_reply": "2022-07-19T09:25:04.039322Z",
     "shell.execute_reply.started": "2022-07-19T09:23:47.735968Z"
    },
    "papermill": {
     "duration": 0.034993,
     "end_time": "2022-07-19T09:25:04.039869",
     "exception": false,
     "start_time": "2022-07-19T09:25:04.004876",
     "status": "completed"
    },
    "tags": []
   },
   "outputs": [],
   "source": [
    "test_df = pd.DataFrame(data={\"image_id\": os.listdir(TEST_DATA_FOLDER), \"hotel_id\": \"\"}).sort_values(by=\"image_id\")"
   ]
  },
  {
   "cell_type": "code",
   "execution_count": 13,
   "id": "a1547ebe",
   "metadata": {
    "execution": {
     "iopub.execute_input": "2022-07-19T09:25:04.081070Z",
     "iopub.status.busy": "2022-07-19T09:25:04.079545Z",
     "iopub.status.idle": "2022-07-19T09:25:04.081675Z",
     "shell.execute_reply": "2022-07-19T09:25:04.082100Z",
     "shell.execute_reply.started": "2022-07-19T09:23:47.768862Z"
    },
    "papermill": {
     "duration": 0.023618,
     "end_time": "2022-07-19T09:25:04.082232",
     "exception": false,
     "start_time": "2022-07-19T09:25:04.058614",
     "status": "completed"
    },
    "tags": []
   },
   "outputs": [],
   "source": [
    "def get_model(backbone_name, checkpoint_path, args):\n",
    "    model = EmbeddingModel(args.n_classes, args.embedding_size, backbone_name)\n",
    "        \n",
    "    checkpoint = torch.load(checkpoint_path)\n",
    "    model.load_state_dict(checkpoint[\"model\"])\n",
    "    model = model.to(args.device)\n",
    "    \n",
    "    return model"
   ]
  },
  {
   "cell_type": "code",
   "execution_count": 14,
   "id": "3377d950",
   "metadata": {
    "execution": {
     "iopub.execute_input": "2022-07-19T09:25:04.182433Z",
     "iopub.status.busy": "2022-07-19T09:25:04.181721Z",
     "iopub.status.idle": "2022-07-19T09:25:04.187087Z",
     "shell.execute_reply": "2022-07-19T09:25:04.186229Z",
     "shell.execute_reply.started": "2022-07-19T09:23:47.802423Z"
    },
    "papermill": {
     "duration": 0.088275,
     "end_time": "2022-07-19T09:25:04.187217",
     "exception": false,
     "start_time": "2022-07-19T09:25:04.098942",
     "status": "completed"
    },
    "tags": []
   },
   "outputs": [],
   "source": [
    "class args:\n",
    "    batch_size = 64\n",
    "    num_workers = 2\n",
    "    embedding_size = 128\n",
    "    device = ('cuda' if torch.cuda.is_available() else 'cpu')\n",
    "    \n",
    "    \n",
    "seed_everything(seed=SEED)\n",
    "\n",
    "test_dataset = HotelImageDataset(test_df, base_transform, data_folder=TEST_DATA_FOLDER)\n",
    "test_loader  = DataLoader(test_dataset, num_workers=args.num_workers, batch_size=args.batch_size, shuffle=False)"
   ]
  },
  {
   "cell_type": "code",
   "execution_count": 15,
   "id": "ef14ccf0",
   "metadata": {
    "execution": {
     "iopub.execute_input": "2022-07-19T09:25:04.225553Z",
     "iopub.status.busy": "2022-07-19T09:25:04.225056Z",
     "iopub.status.idle": "2022-07-19T09:25:04.659593Z",
     "shell.execute_reply": "2022-07-19T09:25:04.660089Z",
     "shell.execute_reply.started": "2022-07-19T09:23:47.869077Z"
    },
    "papermill": {
     "duration": 0.45513,
     "end_time": "2022-07-19T09:25:04.660261",
     "exception": false,
     "start_time": "2022-07-19T09:25:04.205131",
     "status": "completed"
    },
    "tags": []
   },
   "outputs": [
    {
     "data": {
      "text/html": [
       "<div>\n",
       "<style scoped>\n",
       "    .dataframe tbody tr th:only-of-type {\n",
       "        vertical-align: middle;\n",
       "    }\n",
       "\n",
       "    .dataframe tbody tr th {\n",
       "        vertical-align: top;\n",
       "    }\n",
       "\n",
       "    .dataframe thead th {\n",
       "        text-align: right;\n",
       "    }\n",
       "</style>\n",
       "<table border=\"1\" class=\"dataframe\">\n",
       "  <thead>\n",
       "    <tr style=\"text-align: right;\">\n",
       "      <th></th>\n",
       "      <th>image_id</th>\n",
       "      <th>hotel_id</th>\n",
       "      <th>hotel_id_code</th>\n",
       "      <th>embeddings</th>\n",
       "    </tr>\n",
       "  </thead>\n",
       "  <tbody>\n",
       "    <tr>\n",
       "      <th>0</th>\n",
       "      <td>000011648.jpg</td>\n",
       "      <td>15526</td>\n",
       "      <td>603</td>\n",
       "      <td>[-0.6717644, -9.775645, 4.228441, -1.2666086, ...</td>\n",
       "    </tr>\n",
       "    <tr>\n",
       "      <th>1</th>\n",
       "      <td>000011630.jpg</td>\n",
       "      <td>15526</td>\n",
       "      <td>603</td>\n",
       "      <td>[0.8201336, -6.0301514, 1.0182712, 1.3230206, ...</td>\n",
       "    </tr>\n",
       "    <tr>\n",
       "      <th>2</th>\n",
       "      <td>000011650.jpg</td>\n",
       "      <td>15526</td>\n",
       "      <td>603</td>\n",
       "      <td>[3.5809855, -4.400089, 1.8465648, 0.948379, -7...</td>\n",
       "    </tr>\n",
       "    <tr>\n",
       "      <th>3</th>\n",
       "      <td>000011633.jpg</td>\n",
       "      <td>15526</td>\n",
       "      <td>603</td>\n",
       "      <td>[2.4244885, -1.2997266, -3.6357903, -1.8872061...</td>\n",
       "    </tr>\n",
       "    <tr>\n",
       "      <th>4</th>\n",
       "      <td>000011656.jpg</td>\n",
       "      <td>15526</td>\n",
       "      <td>603</td>\n",
       "      <td>[-3.6028705, -3.4705389, -0.020816118, -4.8226...</td>\n",
       "    </tr>\n",
       "  </tbody>\n",
       "</table>\n",
       "</div>"
      ],
      "text/plain": [
       "        image_id  hotel_id  hotel_id_code  \\\n",
       "0  000011648.jpg     15526            603   \n",
       "1  000011630.jpg     15526            603   \n",
       "2  000011650.jpg     15526            603   \n",
       "3  000011633.jpg     15526            603   \n",
       "4  000011656.jpg     15526            603   \n",
       "\n",
       "                                          embeddings  \n",
       "0  [-0.6717644, -9.775645, 4.228441, -1.2666086, ...  \n",
       "1  [0.8201336, -6.0301514, 1.0182712, 1.3230206, ...  \n",
       "2  [3.5809855, -4.400089, 1.8465648, 0.948379, -7...  \n",
       "3  [2.4244885, -1.2997266, -3.6357903, -1.8872061...  \n",
       "4  [-3.6028705, -3.4705389, -0.020816118, -4.8226...  "
      ]
     },
     "metadata": {},
     "output_type": "display_data"
    }
   ],
   "source": [
    "base_embeddings_df = pd.read_pickle('../input/hotel-id-starter-similarity-training-0712/embedding-model-efficientnet_b0-256x256_image-embeddings.pkl')\n",
    "display(base_embeddings_df.head())"
   ]
  },
  {
   "cell_type": "code",
   "execution_count": 16,
   "id": "c6a29a8b",
   "metadata": {
    "execution": {
     "iopub.execute_input": "2022-07-19T09:25:04.701860Z",
     "iopub.status.busy": "2022-07-19T09:25:04.701300Z",
     "iopub.status.idle": "2022-07-19T09:25:08.735504Z",
     "shell.execute_reply": "2022-07-19T09:25:08.735025Z",
     "shell.execute_reply.started": "2022-07-19T09:23:48.246164Z"
    },
    "papermill": {
     "duration": 4.057568,
     "end_time": "2022-07-19T09:25:08.735633",
     "exception": false,
     "start_time": "2022-07-19T09:25:04.678065",
     "status": "completed"
    },
    "tags": []
   },
   "outputs": [],
   "source": [
    "args.n_classes = base_embeddings_df[\"hotel_id\"].nunique()\n",
    "\n",
    "model = get_model(\"efficientnet_b0\",\n",
    "                  \"../input/hotel-id-starter-similarity-training-0712/checkpoint-embedding-model-efficientnet_b0-256x256.pt\", \n",
    "                  args)"
   ]
  },
  {
   "cell_type": "code",
   "execution_count": 17,
   "id": "92bced91",
   "metadata": {
    "execution": {
     "iopub.execute_input": "2022-07-19T09:25:08.779017Z",
     "iopub.status.busy": "2022-07-19T09:25:08.778232Z",
     "iopub.status.idle": "2022-07-19T09:25:15.015364Z",
     "shell.execute_reply": "2022-07-19T09:25:15.016598Z",
     "shell.execute_reply.started": "2022-07-19T09:23:52.392560Z"
    },
    "papermill": {
     "duration": 6.261982,
     "end_time": "2022-07-19T09:25:15.016872",
     "exception": false,
     "start_time": "2022-07-19T09:25:08.754890",
     "status": "completed"
    },
    "tags": []
   },
   "outputs": [
    {
     "name": "stderr",
     "output_type": "stream",
     "text": [
      "Generate test embeddings: 100%|██████████| 1/1 [00:06<00:00,  6.09s/it]\n",
      "Similarity - match finding: 100%|██████████| 1/1 [00:00<00:00,  8.83it/s]"
     ]
    },
    {
     "name": "stdout",
     "output_type": "stream",
     "text": [
      "CPU times: user 827 ms, sys: 829 ms, total: 1.66 s\n",
      "Wall time: 6.22 s\n"
     ]
    },
    {
     "name": "stderr",
     "output_type": "stream",
     "text": [
      "\n"
     ]
    },
    {
     "data": {
      "text/html": [
       "<div>\n",
       "<style scoped>\n",
       "    .dataframe tbody tr th:only-of-type {\n",
       "        vertical-align: middle;\n",
       "    }\n",
       "\n",
       "    .dataframe tbody tr th {\n",
       "        vertical-align: top;\n",
       "    }\n",
       "\n",
       "    .dataframe thead th {\n",
       "        text-align: right;\n",
       "    }\n",
       "</style>\n",
       "<table border=\"1\" class=\"dataframe\">\n",
       "  <thead>\n",
       "    <tr style=\"text-align: right;\">\n",
       "      <th></th>\n",
       "      <th>image_id</th>\n",
       "      <th>hotel_id</th>\n",
       "    </tr>\n",
       "  </thead>\n",
       "  <tbody>\n",
       "    <tr>\n",
       "      <th>0</th>\n",
       "      <td>abc.jpg</td>\n",
       "      <td>84402 87236 90560 206615 309609</td>\n",
       "    </tr>\n",
       "  </tbody>\n",
       "</table>\n",
       "</div>"
      ],
      "text/plain": [
       "  image_id                         hotel_id\n",
       "0  abc.jpg  84402 87236 90560 206615 309609"
      ]
     },
     "execution_count": 17,
     "metadata": {},
     "output_type": "execute_result"
    }
   ],
   "source": [
    "%%time\n",
    "\n",
    "preds = predict(args, base_embeddings_df, test_loader, model)\n",
    "# transform array of hotel_ids into string\n",
    "test_df[\"hotel_id\"] = [str(list(l)).strip(\"[]\").replace(\",\", \"\") for l in preds]\n",
    "\n",
    "test_df.to_csv(\"submission.csv\", index=False)\n",
    "test_df.head()"
   ]
  },
  {
   "cell_type": "code",
   "execution_count": null,
   "id": "2c945d78",
   "metadata": {
    "papermill": {
     "duration": 0.026392,
     "end_time": "2022-07-19T09:25:15.082087",
     "exception": false,
     "start_time": "2022-07-19T09:25:15.055695",
     "status": "completed"
    },
    "tags": []
   },
   "outputs": [],
   "source": []
  }
 ],
 "metadata": {
  "kernelspec": {
   "display_name": "Python 3",
   "language": "python",
   "name": "python3"
  },
  "language_info": {
   "codemirror_mode": {
    "name": "ipython",
    "version": 3
   },
   "file_extension": ".py",
   "mimetype": "text/x-python",
   "name": "python",
   "nbconvert_exporter": "python",
   "pygments_lexer": "ipython3",
   "version": "3.7.12"
  },
  "papermill": {
   "default_parameters": {},
   "duration": 27.311515,
   "end_time": "2022-07-19T09:25:16.714262",
   "environment_variables": {},
   "exception": null,
   "input_path": "__notebook__.ipynb",
   "output_path": "__notebook__.ipynb",
   "parameters": {},
   "start_time": "2022-07-19T09:24:49.402747",
   "version": "2.3.3"
  }
 },
 "nbformat": 4,
 "nbformat_minor": 5
}

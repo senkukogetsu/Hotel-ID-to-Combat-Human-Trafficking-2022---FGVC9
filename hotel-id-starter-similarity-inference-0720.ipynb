{
 "cells": [
  {
   "cell_type": "markdown",
   "id": "cc2d6fc6",
   "metadata": {
    "papermill": {
     "duration": 0.018665,
     "end_time": "2022-07-20T07:30:10.519601",
     "exception": false,
     "start_time": "2022-07-20T07:30:10.500936",
     "status": "completed"
    },
    "tags": []
   },
   "source": [
    "https://www.kaggle.com/code/michaln/hotel-id-starter-similarity-inference"
   ]
  },
  {
   "cell_type": "code",
   "execution_count": 1,
   "id": "7b323952",
   "metadata": {
    "execution": {
     "iopub.execute_input": "2022-07-20T07:30:10.562457Z",
     "iopub.status.busy": "2022-07-20T07:30:10.561677Z",
     "iopub.status.idle": "2022-07-20T07:30:10.565848Z",
     "shell.execute_reply": "2022-07-20T07:30:10.565326Z",
     "shell.execute_reply.started": "2022-07-19T09:23:47.369799Z"
    },
    "papermill": {
     "duration": 0.029913,
     "end_time": "2022-07-20T07:30:10.565979",
     "exception": false,
     "start_time": "2022-07-20T07:30:10.536066",
     "status": "completed"
    },
    "tags": []
   },
   "outputs": [],
   "source": [
    "import sys\n",
    "sys.path.append('../input/timm-pytorch-image-models/pytorch-image-models-master')"
   ]
  },
  {
   "cell_type": "code",
   "execution_count": 2,
   "id": "f3fc6df5",
   "metadata": {
    "execution": {
     "iopub.execute_input": "2022-07-20T07:30:10.604325Z",
     "iopub.status.busy": "2022-07-20T07:30:10.603534Z",
     "iopub.status.idle": "2022-07-20T07:30:15.127434Z",
     "shell.execute_reply": "2022-07-20T07:30:15.126946Z",
     "shell.execute_reply.started": "2022-07-19T09:23:47.399010Z"
    },
    "papermill": {
     "duration": 4.544631,
     "end_time": "2022-07-20T07:30:15.127566",
     "exception": false,
     "start_time": "2022-07-20T07:30:10.582935",
     "status": "completed"
    },
    "tags": []
   },
   "outputs": [],
   "source": [
    "import numpy as np\n",
    "import pandas as pd\n",
    "import random\n",
    "import os\n",
    "import math\n",
    "\n",
    "from PIL import Image as pil_image\n",
    "from tqdm import tqdm\n",
    "\n",
    "import torch\n",
    "import torch.nn as nn\n",
    "from torch.utils.data import DataLoader\n",
    "\n",
    "import timm\n",
    "from sklearn.metrics.pairwise import cosine_similarity"
   ]
  },
  {
   "cell_type": "code",
   "execution_count": 3,
   "id": "7c4c1dab",
   "metadata": {
    "execution": {
     "iopub.execute_input": "2022-07-20T07:30:15.166947Z",
     "iopub.status.busy": "2022-07-20T07:30:15.166246Z",
     "iopub.status.idle": "2022-07-20T07:30:15.169978Z",
     "shell.execute_reply": "2022-07-20T07:30:15.169536Z",
     "shell.execute_reply.started": "2022-07-19T09:23:47.426554Z"
    },
    "papermill": {
     "duration": 0.024647,
     "end_time": "2022-07-20T07:30:15.170099",
     "exception": false,
     "start_time": "2022-07-20T07:30:15.145452",
     "status": "completed"
    },
    "tags": []
   },
   "outputs": [],
   "source": [
    "SEED = 42\n",
    "IMG_SIZE = 256\n",
    "N_MATCHES = 5\n",
    "\n",
    "PROJECT_FOLDER = \"../input/hotel-id-to-combat-human-trafficking-2022-fgvc9/\"\n",
    "TRAIN_DATA_FOLDER = \"../input/hotelid-2022-train-images-256x256/images/\"\n",
    "TEST_DATA_FOLDER = PROJECT_FOLDER + \"test_images/\""
   ]
  },
  {
   "cell_type": "code",
   "execution_count": 4,
   "id": "df501e01",
   "metadata": {
    "execution": {
     "iopub.execute_input": "2022-07-20T07:30:15.208731Z",
     "iopub.status.busy": "2022-07-20T07:30:15.207561Z",
     "iopub.status.idle": "2022-07-20T07:30:15.211472Z",
     "shell.execute_reply": "2022-07-20T07:30:15.211033Z",
     "shell.execute_reply.started": "2022-07-19T09:23:47.456584Z"
    },
    "papermill": {
     "duration": 0.024879,
     "end_time": "2022-07-20T07:30:15.211575",
     "exception": false,
     "start_time": "2022-07-20T07:30:15.186696",
     "status": "completed"
    },
    "tags": []
   },
   "outputs": [
    {
     "name": "stdout",
     "output_type": "stream",
     "text": [
      "['sample_submission.csv', 'train_images', 'train_masks', 'test_images']\n"
     ]
    }
   ],
   "source": [
    "print(os.listdir(PROJECT_FOLDER))"
   ]
  },
  {
   "cell_type": "code",
   "execution_count": 5,
   "id": "9459fa87",
   "metadata": {
    "execution": {
     "iopub.execute_input": "2022-07-20T07:30:15.250604Z",
     "iopub.status.busy": "2022-07-20T07:30:15.249766Z",
     "iopub.status.idle": "2022-07-20T07:30:15.252243Z",
     "shell.execute_reply": "2022-07-20T07:30:15.251828Z",
     "shell.execute_reply.started": "2022-07-19T09:23:47.493159Z"
    },
    "papermill": {
     "duration": 0.02384,
     "end_time": "2022-07-20T07:30:15.252357",
     "exception": false,
     "start_time": "2022-07-20T07:30:15.228517",
     "status": "completed"
    },
    "tags": []
   },
   "outputs": [],
   "source": [
    "def seed_everything(seed):\n",
    "    random.seed(seed)\n",
    "    os.environ['PYTHONHASHSEED'] = str(seed)\n",
    "    np.random.seed(seed)\n",
    "    torch.manual_seed(seed)\n",
    "    torch.cuda.manual_seed(seed)\n",
    "    torch.backends.cudnn.deterministic = True"
   ]
  },
  {
   "cell_type": "code",
   "execution_count": 6,
   "id": "9baa0064",
   "metadata": {
    "execution": {
     "iopub.execute_input": "2022-07-20T07:30:15.289850Z",
     "iopub.status.busy": "2022-07-20T07:30:15.289171Z",
     "iopub.status.idle": "2022-07-20T07:30:16.700097Z",
     "shell.execute_reply": "2022-07-20T07:30:16.700533Z",
     "shell.execute_reply.started": "2022-07-19T09:23:47.544213Z"
    },
    "papermill": {
     "duration": 1.431671,
     "end_time": "2022-07-20T07:30:16.700724",
     "exception": false,
     "start_time": "2022-07-20T07:30:15.269053",
     "status": "completed"
    },
    "tags": []
   },
   "outputs": [],
   "source": [
    "import albumentations as A\n",
    "import albumentations.pytorch as APT\n",
    "import cv2 \n",
    "\n",
    "base_transform = A.Compose([\n",
    "    A.ToFloat(),\n",
    "    APT.transforms.ToTensorV2(),\n",
    "])"
   ]
  },
  {
   "cell_type": "code",
   "execution_count": 7,
   "id": "53cd9361",
   "metadata": {
    "execution": {
     "iopub.execute_input": "2022-07-20T07:30:16.743843Z",
     "iopub.status.busy": "2022-07-20T07:30:16.742210Z",
     "iopub.status.idle": "2022-07-20T07:30:16.744410Z",
     "shell.execute_reply": "2022-07-20T07:30:16.744843Z",
     "shell.execute_reply.started": "2022-07-19T09:23:47.581043Z"
    },
    "papermill": {
     "duration": 0.026365,
     "end_time": "2022-07-20T07:30:16.744977",
     "exception": false,
     "start_time": "2022-07-20T07:30:16.718612",
     "status": "completed"
    },
    "tags": []
   },
   "outputs": [],
   "source": [
    "def pad_image(img):\n",
    "    w, h, c = np.shape(img)\n",
    "    if w > h:\n",
    "        pad = int((w - h) / 2)\n",
    "        img = cv2.copyMakeBorder(img, 0, 0, pad, pad, cv2.BORDER_CONSTANT, value=0)\n",
    "    else:\n",
    "        pad = int((h - w) / 2)\n",
    "        img = cv2.copyMakeBorder(img, pad, pad, 0, 0, cv2.BORDER_CONSTANT, value=0)\n",
    "        \n",
    "    return img\n",
    "\n",
    "\n",
    "def open_and_preprocess_image(image_path):\n",
    "    img = cv2.imread(image_path)\n",
    "    img = cv2.cvtColor(img, cv2.COLOR_BGR2RGB)\n",
    "    img = pad_image(img)\n",
    "    return cv2.resize(img, (IMG_SIZE, IMG_SIZE))"
   ]
  },
  {
   "cell_type": "code",
   "execution_count": 8,
   "id": "eda0a4ce",
   "metadata": {
    "execution": {
     "iopub.execute_input": "2022-07-20T07:30:16.784572Z",
     "iopub.status.busy": "2022-07-20T07:30:16.783809Z",
     "iopub.status.idle": "2022-07-20T07:30:16.785668Z",
     "shell.execute_reply": "2022-07-20T07:30:16.786482Z",
     "shell.execute_reply.started": "2022-07-19T09:23:47.609555Z"
    },
    "papermill": {
     "duration": 0.025418,
     "end_time": "2022-07-20T07:30:16.786625",
     "exception": false,
     "start_time": "2022-07-20T07:30:16.761207",
     "status": "completed"
    },
    "tags": []
   },
   "outputs": [],
   "source": [
    "class HotelImageDataset:\n",
    "    def __init__(self, data, transform=None, data_folder=\"train_images/\"):\n",
    "        self.data = data\n",
    "        self.data_folder = data_folder\n",
    "        self.transform = transform\n",
    "\n",
    "    def __len__(self):\n",
    "        return len(self.data)\n",
    "    \n",
    "    def __getitem__(self, idx):\n",
    "        record = self.data.iloc[idx]\n",
    "        image_path = self.data_folder + record[\"image_id\"]\n",
    "        \n",
    "        image = np.array(open_and_preprocess_image(image_path)).astype(np.uint8)\n",
    "\n",
    "        if self.transform:\n",
    "            transformed = self.transform(image=image)\n",
    "            image = transformed[\"image\"]\n",
    "        \n",
    "        return {\n",
    "            \"image\" : image,\n",
    "        }"
   ]
  },
  {
   "cell_type": "code",
   "execution_count": 9,
   "id": "e9fe08e9",
   "metadata": {
    "execution": {
     "iopub.execute_input": "2022-07-20T07:30:16.827560Z",
     "iopub.status.busy": "2022-07-20T07:30:16.826873Z",
     "iopub.status.idle": "2022-07-20T07:30:16.828822Z",
     "shell.execute_reply": "2022-07-20T07:30:16.829184Z",
     "shell.execute_reply.started": "2022-07-19T09:23:47.636021Z"
    },
    "papermill": {
     "duration": 0.02619,
     "end_time": "2022-07-20T07:30:16.829311",
     "exception": false,
     "start_time": "2022-07-20T07:30:16.803121",
     "status": "completed"
    },
    "tags": []
   },
   "outputs": [],
   "source": [
    "class EmbeddingModel(nn.Module):\n",
    "    def __init__(self, n_classes=100, embedding_size=64, backbone_name=\"efficientnet_b2\"):\n",
    "        super(EmbeddingModel, self).__init__()\n",
    "        \n",
    "        self.backbone = timm.create_model(backbone_name, num_classes=n_classes, pretrained=False)\n",
    "        in_features = self.backbone.get_classifier().in_features\n",
    "        \n",
    "        self.backbone.classifier = nn.Identity()\n",
    "        self.embedding = nn.Linear(in_features, embedding_size)\n",
    "        self.classifier = nn.Linear(embedding_size, n_classes)\n",
    "\n",
    "    def embed_and_classify(self, x):\n",
    "        x = self.forward(x)\n",
    "        return x, self.classifier(x)\n",
    "\n",
    "    def forward(self, x):\n",
    "        x = self.backbone(x)\n",
    "        x = x.view(x.size(0), -1)\n",
    "        x = self.embedding(x)\n",
    "        return x"
   ]
  },
  {
   "cell_type": "code",
   "execution_count": 10,
   "id": "dc4e25da",
   "metadata": {
    "execution": {
     "iopub.execute_input": "2022-07-20T07:30:16.869069Z",
     "iopub.status.busy": "2022-07-20T07:30:16.868309Z",
     "iopub.status.idle": "2022-07-20T07:30:16.870658Z",
     "shell.execute_reply": "2022-07-20T07:30:16.870271Z",
     "shell.execute_reply.started": "2022-07-19T09:23:47.660501Z"
    },
    "papermill": {
     "duration": 0.024967,
     "end_time": "2022-07-20T07:30:16.870800",
     "exception": false,
     "start_time": "2022-07-20T07:30:16.845833",
     "status": "completed"
    },
    "tags": []
   },
   "outputs": [],
   "source": [
    "def generate_embeddings(args, loader, model, bar_desc=\"Generating embeds\"):\n",
    "    outputs_all = []\n",
    "    \n",
    "    model.eval()\n",
    "    with torch.no_grad():\n",
    "        t = tqdm(loader, desc=bar_desc)\n",
    "        for i, sample in enumerate(t):\n",
    "            input = sample['image'].to(args.device)\n",
    "            output = model(input)\n",
    "            outputs_all.extend(output.detach().cpu().numpy())\n",
    "            \n",
    "    return outputs_all"
   ]
  },
  {
   "cell_type": "code",
   "execution_count": 11,
   "id": "8483bceb",
   "metadata": {
    "execution": {
     "iopub.execute_input": "2022-07-20T07:30:16.912370Z",
     "iopub.status.busy": "2022-07-20T07:30:16.910793Z",
     "iopub.status.idle": "2022-07-20T07:30:16.912963Z",
     "shell.execute_reply": "2022-07-20T07:30:16.913358Z",
     "shell.execute_reply.started": "2022-07-19T09:23:47.703463Z"
    },
    "papermill": {
     "duration": 0.026254,
     "end_time": "2022-07-20T07:30:16.913483",
     "exception": false,
     "start_time": "2022-07-20T07:30:16.887229",
     "status": "completed"
    },
    "tags": []
   },
   "outputs": [],
   "source": [
    "def find_matches(query, base_embeds, base_targets, k=N_MATCHES):\n",
    "    distance_df = pd.DataFrame(index=np.arange(len(base_targets)), data={\"hotel_id\": base_targets})\n",
    "    # calculate cosine distance of query embeds to all base embeds\n",
    "    distance_df[\"distance\"] = cosine_similarity([query], list(base_embeds))[0]\n",
    "    # sort by distance and hotel_id\n",
    "    distance_df = distance_df.sort_values(by=[\"distance\", \"hotel_id\"], ascending=False).reset_index(drop=True)\n",
    "    # return first 5 different hotel_id_codes\n",
    "    return distance_df[\"hotel_id\"].unique()[:N_MATCHES]\n",
    "\n",
    "\n",
    "def predict(args, base_embeddings_df, test_loader, model):\n",
    "    test_embeds = generate_embeddings(args, test_loader, model, \"Generate test embeddings\")\n",
    "    \n",
    "    preds = []\n",
    "    for query_embeds in tqdm(test_embeds, desc=\"Similarity - match finding\"):\n",
    "        tmp = find_matches(query_embeds, \n",
    "                           base_embeddings_df[\"embeddings\"].values, \n",
    "                           base_embeddings_df[\"hotel_id\"].values)\n",
    "        preds.extend([tmp])\n",
    "        \n",
    "    return preds"
   ]
  },
  {
   "cell_type": "code",
   "execution_count": 12,
   "id": "1898864e",
   "metadata": {
    "execution": {
     "iopub.execute_input": "2022-07-20T07:30:16.950560Z",
     "iopub.status.busy": "2022-07-20T07:30:16.949995Z",
     "iopub.status.idle": "2022-07-20T07:30:16.964281Z",
     "shell.execute_reply": "2022-07-20T07:30:16.963666Z",
     "shell.execute_reply.started": "2022-07-19T09:23:47.735968Z"
    },
    "papermill": {
     "duration": 0.034678,
     "end_time": "2022-07-20T07:30:16.964408",
     "exception": false,
     "start_time": "2022-07-20T07:30:16.929730",
     "status": "completed"
    },
    "tags": []
   },
   "outputs": [],
   "source": [
    "test_df = pd.DataFrame(data={\"image_id\": os.listdir(TEST_DATA_FOLDER), \"hotel_id\": \"\"}).sort_values(by=\"image_id\")"
   ]
  },
  {
   "cell_type": "code",
   "execution_count": 13,
   "id": "91ec5e96",
   "metadata": {
    "execution": {
     "iopub.execute_input": "2022-07-20T07:30:17.004749Z",
     "iopub.status.busy": "2022-07-20T07:30:17.003857Z",
     "iopub.status.idle": "2022-07-20T07:30:17.005414Z",
     "shell.execute_reply": "2022-07-20T07:30:17.005941Z",
     "shell.execute_reply.started": "2022-07-19T09:23:47.768862Z"
    },
    "papermill": {
     "duration": 0.023521,
     "end_time": "2022-07-20T07:30:17.006084",
     "exception": false,
     "start_time": "2022-07-20T07:30:16.982563",
     "status": "completed"
    },
    "tags": []
   },
   "outputs": [],
   "source": [
    "def get_model(backbone_name, checkpoint_path, args):\n",
    "    model = EmbeddingModel(args.n_classes, args.embedding_size, backbone_name)\n",
    "        \n",
    "    checkpoint = torch.load(checkpoint_path)\n",
    "    model.load_state_dict(checkpoint[\"model\"])\n",
    "    model = model.to(args.device)\n",
    "    \n",
    "    return model"
   ]
  },
  {
   "cell_type": "code",
   "execution_count": 14,
   "id": "8fc59adc",
   "metadata": {
    "execution": {
     "iopub.execute_input": "2022-07-20T07:30:17.102918Z",
     "iopub.status.busy": "2022-07-20T07:30:17.101717Z",
     "iopub.status.idle": "2022-07-20T07:30:17.106827Z",
     "shell.execute_reply": "2022-07-20T07:30:17.107299Z",
     "shell.execute_reply.started": "2022-07-19T09:23:47.802423Z"
    },
    "papermill": {
     "duration": 0.084851,
     "end_time": "2022-07-20T07:30:17.107462",
     "exception": false,
     "start_time": "2022-07-20T07:30:17.022611",
     "status": "completed"
    },
    "tags": []
   },
   "outputs": [],
   "source": [
    "class args:\n",
    "    batch_size = 64\n",
    "    num_workers = 2\n",
    "    embedding_size = 128\n",
    "    device = ('cuda' if torch.cuda.is_available() else 'cpu')\n",
    "    \n",
    "    \n",
    "seed_everything(seed=SEED)\n",
    "\n",
    "test_dataset = HotelImageDataset(test_df, base_transform, data_folder=TEST_DATA_FOLDER)\n",
    "test_loader  = DataLoader(test_dataset, num_workers=args.num_workers, batch_size=args.batch_size, shuffle=False)"
   ]
  },
  {
   "cell_type": "code",
   "execution_count": 15,
   "id": "a491c4ce",
   "metadata": {
    "execution": {
     "iopub.execute_input": "2022-07-20T07:30:17.145265Z",
     "iopub.status.busy": "2022-07-20T07:30:17.144696Z",
     "iopub.status.idle": "2022-07-20T07:30:17.526801Z",
     "shell.execute_reply": "2022-07-20T07:30:17.527209Z",
     "shell.execute_reply.started": "2022-07-19T09:23:47.869077Z"
    },
    "papermill": {
     "duration": 0.402788,
     "end_time": "2022-07-20T07:30:17.527362",
     "exception": false,
     "start_time": "2022-07-20T07:30:17.124574",
     "status": "completed"
    },
    "tags": []
   },
   "outputs": [
    {
     "data": {
      "text/html": [
       "<div>\n",
       "<style scoped>\n",
       "    .dataframe tbody tr th:only-of-type {\n",
       "        vertical-align: middle;\n",
       "    }\n",
       "\n",
       "    .dataframe tbody tr th {\n",
       "        vertical-align: top;\n",
       "    }\n",
       "\n",
       "    .dataframe thead th {\n",
       "        text-align: right;\n",
       "    }\n",
       "</style>\n",
       "<table border=\"1\" class=\"dataframe\">\n",
       "  <thead>\n",
       "    <tr style=\"text-align: right;\">\n",
       "      <th></th>\n",
       "      <th>image_id</th>\n",
       "      <th>hotel_id</th>\n",
       "      <th>hotel_id_code</th>\n",
       "      <th>embeddings</th>\n",
       "    </tr>\n",
       "  </thead>\n",
       "  <tbody>\n",
       "    <tr>\n",
       "      <th>0</th>\n",
       "      <td>000011648.jpg</td>\n",
       "      <td>15526</td>\n",
       "      <td>603</td>\n",
       "      <td>[2.6318223, -1.3197129, 1.1989737, -0.41726536...</td>\n",
       "    </tr>\n",
       "    <tr>\n",
       "      <th>1</th>\n",
       "      <td>000011630.jpg</td>\n",
       "      <td>15526</td>\n",
       "      <td>603</td>\n",
       "      <td>[-2.7976332, -3.8185313, 10.0747385, -3.568933...</td>\n",
       "    </tr>\n",
       "    <tr>\n",
       "      <th>2</th>\n",
       "      <td>000011650.jpg</td>\n",
       "      <td>15526</td>\n",
       "      <td>603</td>\n",
       "      <td>[-4.954623, -4.3104115, 3.074591, 1.4532118, 1...</td>\n",
       "    </tr>\n",
       "    <tr>\n",
       "      <th>3</th>\n",
       "      <td>000011633.jpg</td>\n",
       "      <td>15526</td>\n",
       "      <td>603</td>\n",
       "      <td>[-0.7937308, -2.612791, 2.929291, -3.44977, 0....</td>\n",
       "    </tr>\n",
       "    <tr>\n",
       "      <th>4</th>\n",
       "      <td>000011656.jpg</td>\n",
       "      <td>15526</td>\n",
       "      <td>603</td>\n",
       "      <td>[1.5718732, -2.8971636, -0.40479103, -4.177416...</td>\n",
       "    </tr>\n",
       "  </tbody>\n",
       "</table>\n",
       "</div>"
      ],
      "text/plain": [
       "        image_id  hotel_id  hotel_id_code  \\\n",
       "0  000011648.jpg     15526            603   \n",
       "1  000011630.jpg     15526            603   \n",
       "2  000011650.jpg     15526            603   \n",
       "3  000011633.jpg     15526            603   \n",
       "4  000011656.jpg     15526            603   \n",
       "\n",
       "                                          embeddings  \n",
       "0  [2.6318223, -1.3197129, 1.1989737, -0.41726536...  \n",
       "1  [-2.7976332, -3.8185313, 10.0747385, -3.568933...  \n",
       "2  [-4.954623, -4.3104115, 3.074591, 1.4532118, 1...  \n",
       "3  [-0.7937308, -2.612791, 2.929291, -3.44977, 0....  \n",
       "4  [1.5718732, -2.8971636, -0.40479103, -4.177416...  "
      ]
     },
     "metadata": {},
     "output_type": "display_data"
    }
   ],
   "source": [
    "base_embeddings_df = pd.read_pickle('../input/hotel-id-starter-similarity-training-0712/embedding-model-efficientnet_b2-256x256_image-embeddings.pkl')\n",
    "display(base_embeddings_df.head())"
   ]
  },
  {
   "cell_type": "code",
   "execution_count": 16,
   "id": "b71b3d5a",
   "metadata": {
    "execution": {
     "iopub.execute_input": "2022-07-20T07:30:17.568588Z",
     "iopub.status.busy": "2022-07-20T07:30:17.567988Z",
     "iopub.status.idle": "2022-07-20T07:30:22.193338Z",
     "shell.execute_reply": "2022-07-20T07:30:22.192812Z",
     "shell.execute_reply.started": "2022-07-19T09:23:48.246164Z"
    },
    "papermill": {
     "duration": 4.648846,
     "end_time": "2022-07-20T07:30:22.193460",
     "exception": false,
     "start_time": "2022-07-20T07:30:17.544614",
     "status": "completed"
    },
    "tags": []
   },
   "outputs": [],
   "source": [
    "args.n_classes = base_embeddings_df[\"hotel_id\"].nunique()\n",
    "\n",
    "model = get_model(\"efficientnet_b2\",\n",
    "                  \"../input/hotel-id-starter-similarity-training-0712/checkpoint-embedding-model-efficientnet_b2-256x256.pt\", \n",
    "                  args)"
   ]
  },
  {
   "cell_type": "code",
   "execution_count": 17,
   "id": "677752ce",
   "metadata": {
    "execution": {
     "iopub.execute_input": "2022-07-20T07:30:22.238267Z",
     "iopub.status.busy": "2022-07-20T07:30:22.237120Z",
     "iopub.status.idle": "2022-07-20T07:30:28.659208Z",
     "shell.execute_reply": "2022-07-20T07:30:28.660469Z",
     "shell.execute_reply.started": "2022-07-19T09:23:52.392560Z"
    },
    "papermill": {
     "duration": 6.449694,
     "end_time": "2022-07-20T07:30:28.660811",
     "exception": false,
     "start_time": "2022-07-20T07:30:22.211117",
     "status": "completed"
    },
    "tags": []
   },
   "outputs": [
    {
     "name": "stderr",
     "output_type": "stream",
     "text": [
      "Generate test embeddings: 100%|██████████| 1/1 [00:06<00:00,  6.28s/it]\n",
      "Similarity - match finding: 100%|██████████| 1/1 [00:00<00:00,  9.20it/s]"
     ]
    },
    {
     "name": "stdout",
     "output_type": "stream",
     "text": [
      "CPU times: user 1.03 s, sys: 856 ms, total: 1.89 s\n",
      "Wall time: 6.41 s\n"
     ]
    },
    {
     "name": "stderr",
     "output_type": "stream",
     "text": [
      "\n"
     ]
    },
    {
     "data": {
      "text/html": [
       "<div>\n",
       "<style scoped>\n",
       "    .dataframe tbody tr th:only-of-type {\n",
       "        vertical-align: middle;\n",
       "    }\n",
       "\n",
       "    .dataframe tbody tr th {\n",
       "        vertical-align: top;\n",
       "    }\n",
       "\n",
       "    .dataframe thead th {\n",
       "        text-align: right;\n",
       "    }\n",
       "</style>\n",
       "<table border=\"1\" class=\"dataframe\">\n",
       "  <thead>\n",
       "    <tr style=\"text-align: right;\">\n",
       "      <th></th>\n",
       "      <th>image_id</th>\n",
       "      <th>hotel_id</th>\n",
       "    </tr>\n",
       "  </thead>\n",
       "  <tbody>\n",
       "    <tr>\n",
       "      <th>0</th>\n",
       "      <td>abc.jpg</td>\n",
       "      <td>33196 15405 38656 10191 309609</td>\n",
       "    </tr>\n",
       "  </tbody>\n",
       "</table>\n",
       "</div>"
      ],
      "text/plain": [
       "  image_id                        hotel_id\n",
       "0  abc.jpg  33196 15405 38656 10191 309609"
      ]
     },
     "execution_count": 17,
     "metadata": {},
     "output_type": "execute_result"
    }
   ],
   "source": [
    "%%time\n",
    "\n",
    "preds = predict(args, base_embeddings_df, test_loader, model)\n",
    "# transform array of hotel_ids into string\n",
    "test_df[\"hotel_id\"] = [str(list(l)).strip(\"[]\").replace(\",\", \"\") for l in preds]\n",
    "\n",
    "test_df.to_csv(\"submission.csv\", index=False)\n",
    "test_df.head()"
   ]
  },
  {
   "cell_type": "code",
   "execution_count": null,
   "id": "a6e975f6",
   "metadata": {
    "papermill": {
     "duration": 0.029245,
     "end_time": "2022-07-20T07:30:28.728177",
     "exception": false,
     "start_time": "2022-07-20T07:30:28.698932",
     "status": "completed"
    },
    "tags": []
   },
   "outputs": [],
   "source": []
  }
 ],
 "metadata": {
  "kernelspec": {
   "display_name": "Python 3",
   "language": "python",
   "name": "python3"
  },
  "language_info": {
   "codemirror_mode": {
    "name": "ipython",
    "version": 3
   },
   "file_extension": ".py",
   "mimetype": "text/x-python",
   "name": "python",
   "nbconvert_exporter": "python",
   "pygments_lexer": "ipython3",
   "version": "3.7.12"
  },
  "papermill": {
   "default_parameters": {},
   "duration": 28.341003,
   "end_time": "2022-07-20T07:30:30.462433",
   "environment_variables": {},
   "exception": null,
   "input_path": "__notebook__.ipynb",
   "output_path": "__notebook__.ipynb",
   "parameters": {},
   "start_time": "2022-07-20T07:30:02.121430",
   "version": "2.3.3"
  }
 },
 "nbformat": 4,
 "nbformat_minor": 5
}

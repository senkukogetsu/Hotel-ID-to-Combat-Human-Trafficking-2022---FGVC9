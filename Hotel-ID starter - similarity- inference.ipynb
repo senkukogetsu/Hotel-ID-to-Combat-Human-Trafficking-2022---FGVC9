{
 "cells": [
  {
   "cell_type": "markdown",
   "id": "8371aa3e-b625-4c25-b106-c1383085df68",
   "metadata": {},
   "source": [
    "https://www.kaggle.com/code/michaln/hotel-id-starter-similarity-inference"
   ]
  },
  {
   "cell_type": "code",
   "execution_count": 13,
   "id": "ca6be94d-272e-475b-a52a-289106f34c30",
   "metadata": {},
   "outputs": [],
   "source": [
    "import sys\n",
    "sys.path.append('../input/timm-pytorch-image-models/pytorch-image-models-master')"
   ]
  },
  {
   "cell_type": "code",
   "execution_count": 14,
   "id": "c61c61e1-89bb-43f7-a452-000f473f590b",
   "metadata": {},
   "outputs": [],
   "source": [
    "import numpy as np\n",
    "import pandas as pd\n",
    "import random\n",
    "import os\n",
    "import math\n",
    "\n",
    "from PIL import Image as pil_image\n",
    "from tqdm import tqdm\n",
    "\n",
    "import torch\n",
    "import torch.nn as nn\n",
    "from torch.utils.data import DataLoader\n",
    "\n",
    "import timm\n",
    "from sklearn.metrics.pairwise import cosine_similarity"
   ]
  },
  {
   "cell_type": "code",
   "execution_count": 15,
   "id": "6e7221c3-497f-4dd3-9a08-d44b87f17705",
   "metadata": {},
   "outputs": [],
   "source": [
    "SEED = 42\n",
    "IMG_SIZE = 256\n",
    "N_MATCHES = 5\n",
    "\n",
    "PROJECT_FOLDER = \"../input/hotel-id-to-combat-human-trafficking-2022-fgvc9/\"\n",
    "TRAIN_DATA_FOLDER = \"../input/hotelid-2022-train-images-256x256/images/\"\n",
    "TEST_DATA_FOLDER = PROJECT_FOLDER + \"test_images/\""
   ]
  },
  {
   "cell_type": "code",
   "execution_count": 16,
   "id": "29e1c307-ed4d-48fb-89e7-1872b393b8e7",
   "metadata": {},
   "outputs": [
    {
     "name": "stdout",
     "output_type": "stream",
     "text": [
      "['train_images', 'test_images', 'train_masks', 'sample_submission.csv']\n"
     ]
    }
   ],
   "source": [
    "print(os.listdir(PROJECT_FOLDER))"
   ]
  },
  {
   "cell_type": "code",
   "execution_count": 17,
   "id": "418f2892-8dc9-4219-8f24-5e33229fe535",
   "metadata": {},
   "outputs": [],
   "source": [
    "def seed_everything(seed):\n",
    "    random.seed(seed)\n",
    "    os.environ['PYTHONHASHSEED'] = str(seed)\n",
    "    np.random.seed(seed)\n",
    "    torch.manual_seed(seed)\n",
    "    torch.cuda.manual_seed(seed)\n",
    "    torch.backends.cudnn.deterministic = True"
   ]
  },
  {
   "cell_type": "code",
   "execution_count": 18,
   "id": "eeb03195-5571-4a2a-9e7a-e481956d8324",
   "metadata": {},
   "outputs": [],
   "source": [
    "import albumentations as A\n",
    "import albumentations.pytorch as APT\n",
    "import cv2 \n",
    "\n",
    "base_transform = A.Compose([\n",
    "    A.ToFloat(),\n",
    "    APT.transforms.ToTensorV2(),\n",
    "])"
   ]
  },
  {
   "cell_type": "code",
   "execution_count": 19,
   "id": "de418c1a-885b-4718-af4b-3a1cf584c9c9",
   "metadata": {},
   "outputs": [],
   "source": [
    "def pad_image(img):\n",
    "    w, h, c = np.shape(img)\n",
    "    if w > h:\n",
    "        pad = int((w - h) / 2)\n",
    "        img = cv2.copyMakeBorder(img, 0, 0, pad, pad, cv2.BORDER_CONSTANT, value=0)\n",
    "    else:\n",
    "        pad = int((h - w) / 2)\n",
    "        img = cv2.copyMakeBorder(img, pad, pad, 0, 0, cv2.BORDER_CONSTANT, value=0)\n",
    "        \n",
    "    return img\n",
    "\n",
    "\n",
    "def open_and_preprocess_image(image_path):\n",
    "    img = cv2.imread(image_path)\n",
    "    img = cv2.cvtColor(img, cv2.COLOR_BGR2RGB)\n",
    "    img = pad_image(img)\n",
    "    return cv2.resize(img, (IMG_SIZE, IMG_SIZE))"
   ]
  },
  {
   "cell_type": "code",
   "execution_count": 21,
   "id": "749a7587-b00c-42db-bac4-f7dcbcea6525",
   "metadata": {},
   "outputs": [],
   "source": [
    "class EmbeddingModel(nn.Module):\n",
    "    def __init__(self, n_classes=100, embedding_size=64, backbone_name=\"efficientnet_b0\"):\n",
    "        super(EmbeddingModel, self).__init__()\n",
    "        \n",
    "        self.backbone = timm.create_model(backbone_name, num_classes=n_classes, pretrained=False)\n",
    "        in_features = self.backbone.get_classifier().in_features\n",
    "        \n",
    "        self.backbone.classifier = nn.Identity()\n",
    "        self.embedding = nn.Linear(in_features, embedding_size)\n",
    "        self.classifier = nn.Linear(embedding_size, n_classes)\n",
    "\n",
    "    def embed_and_classify(self, x):\n",
    "        x = self.forward(x)\n",
    "        return x, self.classifier(x)\n",
    "\n",
    "    def forward(self, x):\n",
    "        x = self.backbone(x)\n",
    "        x = x.view(x.size(0), -1)\n",
    "        x = self.embedding(x)\n",
    "        return x"
   ]
  },
  {
   "cell_type": "code",
   "execution_count": 22,
   "id": "904fd273-894d-4392-8617-79f550094927",
   "metadata": {},
   "outputs": [],
   "source": [
    "def generate_embeddings(args, loader, model, bar_desc=\"Generating embeds\"):\n",
    "    outputs_all = []\n",
    "    \n",
    "    model.eval()\n",
    "    with torch.no_grad():\n",
    "        t = tqdm(loader, desc=bar_desc)\n",
    "        for i, sample in enumerate(t):\n",
    "            input = sample['image'].to(args.device)\n",
    "            output = model(input)\n",
    "            outputs_all.extend(output.detach().cpu().numpy())\n",
    "            \n",
    "    return outputs_all"
   ]
  },
  {
   "cell_type": "code",
   "execution_count": 23,
   "id": "7eb4647e-f1de-480c-b8ca-59748397d1d8",
   "metadata": {},
   "outputs": [],
   "source": [
    "def find_matches(query, base_embeds, base_targets, k=N_MATCHES):\n",
    "    distance_df = pd.DataFrame(index=np.arange(len(base_targets)), data={\"hotel_id\": base_targets})\n",
    "    # calculate cosine distance of query embeds to all base embeds\n",
    "    distance_df[\"distance\"] = cosine_similarity([query], list(base_embeds))[0]\n",
    "    # sort by distance and hotel_id\n",
    "    distance_df = distance_df.sort_values(by=[\"distance\", \"hotel_id\"], ascending=False).reset_index(drop=True)\n",
    "    # return first 5 different hotel_id_codes\n",
    "    return distance_df[\"hotel_id\"].unique()[:N_MATCHES]\n",
    "\n",
    "\n",
    "def predict(args, base_embeddings_df, test_loader, model):\n",
    "    test_embeds = generate_embeddings(args, test_loader, model, \"Generate test embeddings\")\n",
    "    \n",
    "    preds = []\n",
    "    for query_embeds in tqdm(test_embeds, desc=\"Similarity - match finding\"):\n",
    "        tmp = find_matches(query_embeds, \n",
    "                           base_embeddings_df[\"embeddings\"].values, \n",
    "                           base_embeddings_df[\"hotel_id\"].values)\n",
    "        preds.extend([tmp])\n",
    "        \n",
    "    return preds"
   ]
  },
  {
   "cell_type": "code",
   "execution_count": 24,
   "id": "906addcc-5b44-4523-8299-16d34a1fafe3",
   "metadata": {},
   "outputs": [],
   "source": [
    "test_df = pd.DataFrame(data={\"image_id\": os.listdir(TEST_DATA_FOLDER), \"hotel_id\": \"\"}).sort_values(by=\"image_id\")"
   ]
  },
  {
   "cell_type": "code",
   "execution_count": 25,
   "id": "78dc1828-1eb7-4a2b-a1bd-1f522c1e3f86",
   "metadata": {},
   "outputs": [],
   "source": [
    "def get_model(backbone_name, checkpoint_path, args):\n",
    "    model = EmbeddingModel(args.n_classes, args.embedding_size, backbone_name)\n",
    "        \n",
    "    checkpoint = torch.load(checkpoint_path)\n",
    "    model.load_state_dict(checkpoint[\"model\"])\n",
    "    model = model.to(args.device)\n",
    "    \n",
    "    return model"
   ]
  },
  {
   "cell_type": "code",
   "execution_count": 26,
   "id": "9874c68e-e6b7-47ad-8a07-1766824465cb",
   "metadata": {},
   "outputs": [],
   "source": [
    "class args:\n",
    "    batch_size = 64\n",
    "    num_workers = 2\n",
    "    embedding_size = 128\n",
    "    device = ('cuda' if torch.cuda.is_available() else 'cpu')\n",
    "    \n",
    "    \n",
    "seed_everything(seed=SEED)\n",
    "\n",
    "test_dataset = HotelImageDataset(test_df, base_transform, data_folder=TEST_DATA_FOLDER)\n",
    "test_loader  = DataLoader(test_dataset, num_workers=args.num_workers, batch_size=args.batch_size, shuffle=False)"
   ]
  },
  {
   "cell_type": "code",
   "execution_count": 28,
   "id": "86ad6ad3-891c-4f4f-b325-85074a0967e0",
   "metadata": {},
   "outputs": [
    {
     "data": {
      "text/html": [
       "<div>\n",
       "<style scoped>\n",
       "    .dataframe tbody tr th:only-of-type {\n",
       "        vertical-align: middle;\n",
       "    }\n",
       "\n",
       "    .dataframe tbody tr th {\n",
       "        vertical-align: top;\n",
       "    }\n",
       "\n",
       "    .dataframe thead th {\n",
       "        text-align: right;\n",
       "    }\n",
       "</style>\n",
       "<table border=\"1\" class=\"dataframe\">\n",
       "  <thead>\n",
       "    <tr style=\"text-align: right;\">\n",
       "      <th></th>\n",
       "      <th>image_id</th>\n",
       "      <th>hotel_id</th>\n",
       "      <th>hotel_id_code</th>\n",
       "      <th>embeddings</th>\n",
       "    </tr>\n",
       "  </thead>\n",
       "  <tbody>\n",
       "    <tr>\n",
       "      <th>0</th>\n",
       "      <td>000011648.jpg</td>\n",
       "      <td>15526</td>\n",
       "      <td>603</td>\n",
       "      <td>[0.9567741, -5.83224, 4.8208904, -0.40146866, ...</td>\n",
       "    </tr>\n",
       "    <tr>\n",
       "      <th>1</th>\n",
       "      <td>000011630.jpg</td>\n",
       "      <td>15526</td>\n",
       "      <td>603</td>\n",
       "      <td>[-1.3121479, -3.234869, -5.635606, 4.8966217, ...</td>\n",
       "    </tr>\n",
       "    <tr>\n",
       "      <th>2</th>\n",
       "      <td>000011650.jpg</td>\n",
       "      <td>15526</td>\n",
       "      <td>603</td>\n",
       "      <td>[2.2382777, -3.497388, -0.033765107, 2.8901916...</td>\n",
       "    </tr>\n",
       "    <tr>\n",
       "      <th>3</th>\n",
       "      <td>000011633.jpg</td>\n",
       "      <td>15526</td>\n",
       "      <td>603</td>\n",
       "      <td>[2.1780224, -2.4077232, -0.7601607, 0.04288583...</td>\n",
       "    </tr>\n",
       "    <tr>\n",
       "      <th>4</th>\n",
       "      <td>000011656.jpg</td>\n",
       "      <td>15526</td>\n",
       "      <td>603</td>\n",
       "      <td>[-0.19503844, -3.1040602, 1.0174057, -2.351955...</td>\n",
       "    </tr>\n",
       "  </tbody>\n",
       "</table>\n",
       "</div>"
      ],
      "text/plain": [
       "        image_id  hotel_id  hotel_id_code  \\\n",
       "0  000011648.jpg     15526            603   \n",
       "1  000011630.jpg     15526            603   \n",
       "2  000011650.jpg     15526            603   \n",
       "3  000011633.jpg     15526            603   \n",
       "4  000011656.jpg     15526            603   \n",
       "\n",
       "                                          embeddings  \n",
       "0  [0.9567741, -5.83224, 4.8208904, -0.40146866, ...  \n",
       "1  [-1.3121479, -3.234869, -5.635606, 4.8966217, ...  \n",
       "2  [2.2382777, -3.497388, -0.033765107, 2.8901916...  \n",
       "3  [2.1780224, -2.4077232, -0.7601607, 0.04288583...  \n",
       "4  [-0.19503844, -3.1040602, 1.0174057, -2.351955...  "
      ]
     },
     "metadata": {},
     "output_type": "display_data"
    }
   ],
   "source": [
    "base_embeddings_df = pd.read_pickle('../input/hotel-id-starter-similarity-training/embedding-model-efficientnet_b0-256x256_image-embeddings.pkl')\n",
    "display(base_embeddings_df.head())"
   ]
  },
  {
   "cell_type": "code",
   "execution_count": 29,
   "id": "35dd279e-e650-4c12-91bf-04fa4103ff4f",
   "metadata": {},
   "outputs": [],
   "source": [
    "args.n_classes = base_embeddings_df[\"hotel_id\"].nunique()\n",
    "\n",
    "model = get_model(\"efficientnet_b0\",\n",
    "                  \"../input/hotel-id-starter-similarity-training/checkpoint-embedding-model-efficientnet_b0-256x256.pt\", \n",
    "                  args)"
   ]
  },
  {
   "cell_type": "code",
   "execution_count": 30,
   "id": "a0e5d8fe-01ca-4211-bc68-c95148b1871c",
   "metadata": {},
   "outputs": [
    {
     "name": "stderr",
     "output_type": "stream",
     "text": [
      "Generate test embeddings: 100%|█████████████████████████████████████████████████████████████████████████████████████████████████████████████████████████████████| 1/1 [00:00<00:00,  4.12it/s]\n",
      "Similarity - match finding: 100%|███████████████████████████████████████████████████████████████████████████████████████████████████████████████████████████████| 1/1 [00:00<00:00,  5.92it/s]"
     ]
    },
    {
     "name": "stdout",
     "output_type": "stream",
     "text": [
      "CPU times: user 6.17 s, sys: 3.61 s, total: 9.77 s\n",
      "Wall time: 429 ms\n"
     ]
    },
    {
     "name": "stderr",
     "output_type": "stream",
     "text": [
      "\n"
     ]
    },
    {
     "data": {
      "text/html": [
       "<div>\n",
       "<style scoped>\n",
       "    .dataframe tbody tr th:only-of-type {\n",
       "        vertical-align: middle;\n",
       "    }\n",
       "\n",
       "    .dataframe tbody tr th {\n",
       "        vertical-align: top;\n",
       "    }\n",
       "\n",
       "    .dataframe thead th {\n",
       "        text-align: right;\n",
       "    }\n",
       "</style>\n",
       "<table border=\"1\" class=\"dataframe\">\n",
       "  <thead>\n",
       "    <tr style=\"text-align: right;\">\n",
       "      <th></th>\n",
       "      <th>image_id</th>\n",
       "      <th>hotel_id</th>\n",
       "    </tr>\n",
       "  </thead>\n",
       "  <tbody>\n",
       "    <tr>\n",
       "      <th>0</th>\n",
       "      <td>abc.jpg</td>\n",
       "      <td>309609 90560 12682 24700 19326</td>\n",
       "    </tr>\n",
       "  </tbody>\n",
       "</table>\n",
       "</div>"
      ],
      "text/plain": [
       "  image_id                        hotel_id\n",
       "0  abc.jpg  309609 90560 12682 24700 19326"
      ]
     },
     "execution_count": 30,
     "metadata": {},
     "output_type": "execute_result"
    }
   ],
   "source": [
    "%%time\n",
    "\n",
    "preds = predict(args, base_embeddings_df, test_loader, model)\n",
    "# transform array of hotel_ids into string\n",
    "test_df[\"hotel_id\"] = [str(list(l)).strip(\"[]\").replace(\",\", \"\") for l in preds]\n",
    "\n",
    "test_df.to_csv(\"submission.csv\", index=False)\n",
    "test_df.head()"
   ]
  },
  {
   "cell_type": "code",
   "execution_count": null,
   "id": "34ad360c-63c6-4566-8468-e0bf45111ee5",
   "metadata": {},
   "outputs": [],
   "source": []
  }
 ],
 "metadata": {
  "kernelspec": {
   "display_name": "Python 3 (ipykernel)",
   "language": "python",
   "name": "python3"
  },
  "language_info": {
   "codemirror_mode": {
    "name": "ipython",
    "version": 3
   },
   "file_extension": ".py",
   "mimetype": "text/x-python",
   "name": "python",
   "nbconvert_exporter": "python",
   "pygments_lexer": "ipython3",
   "version": "3.8.10"
  }
 },
 "nbformat": 4,
 "nbformat_minor": 5
}

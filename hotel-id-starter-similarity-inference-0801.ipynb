{
 "cells": [
  {
   "cell_type": "markdown",
   "id": "b28c2a5d",
   "metadata": {
    "papermill": {
     "duration": 0.024916,
     "end_time": "2022-08-01T15:10:25.846971",
     "exception": false,
     "start_time": "2022-08-01T15:10:25.822055",
     "status": "completed"
    },
    "tags": []
   },
   "source": [
    "https://www.kaggle.com/code/michaln/hotel-id-starter-similarity-inference"
   ]
  },
  {
   "cell_type": "code",
   "execution_count": 1,
   "id": "016eea38",
   "metadata": {
    "execution": {
     "iopub.execute_input": "2022-08-01T15:10:25.906857Z",
     "iopub.status.busy": "2022-08-01T15:10:25.905722Z",
     "iopub.status.idle": "2022-08-01T15:10:25.913192Z",
     "shell.execute_reply": "2022-08-01T15:10:25.912435Z",
     "shell.execute_reply.started": "2022-08-01T15:08:58.556288Z"
    },
    "papermill": {
     "duration": 0.041835,
     "end_time": "2022-08-01T15:10:25.913377",
     "exception": false,
     "start_time": "2022-08-01T15:10:25.871542",
     "status": "completed"
    },
    "tags": []
   },
   "outputs": [],
   "source": [
    "import sys\n",
    "sys.path.append('../input/timm-pytorch-image-models/pytorch-image-models-master')"
   ]
  },
  {
   "cell_type": "code",
   "execution_count": 2,
   "id": "9e76c6d6",
   "metadata": {
    "execution": {
     "iopub.execute_input": "2022-08-01T15:10:25.967269Z",
     "iopub.status.busy": "2022-08-01T15:10:25.966327Z",
     "iopub.status.idle": "2022-08-01T15:10:31.004164Z",
     "shell.execute_reply": "2022-08-01T15:10:31.004773Z",
     "shell.execute_reply.started": "2022-08-01T15:08:58.590995Z"
    },
    "papermill": {
     "duration": 5.067511,
     "end_time": "2022-08-01T15:10:31.004949",
     "exception": false,
     "start_time": "2022-08-01T15:10:25.937438",
     "status": "completed"
    },
    "tags": []
   },
   "outputs": [],
   "source": [
    "import numpy as np\n",
    "import pandas as pd\n",
    "import random\n",
    "import os\n",
    "import math\n",
    "\n",
    "from PIL import Image as pil_image\n",
    "from tqdm import tqdm\n",
    "\n",
    "import torch\n",
    "import torch.nn as nn\n",
    "from torch.utils.data import DataLoader\n",
    "\n",
    "import timm\n",
    "from sklearn.metrics.pairwise import cosine_similarity"
   ]
  },
  {
   "cell_type": "code",
   "execution_count": 3,
   "id": "c84e6cab",
   "metadata": {
    "execution": {
     "iopub.execute_input": "2022-08-01T15:10:31.058066Z",
     "iopub.status.busy": "2022-08-01T15:10:31.057030Z",
     "iopub.status.idle": "2022-08-01T15:10:31.059324Z",
     "shell.execute_reply": "2022-08-01T15:10:31.059924Z",
     "shell.execute_reply.started": "2022-08-01T15:09:03.958488Z"
    },
    "papermill": {
     "duration": 0.032078,
     "end_time": "2022-08-01T15:10:31.060068",
     "exception": false,
     "start_time": "2022-08-01T15:10:31.027990",
     "status": "completed"
    },
    "tags": []
   },
   "outputs": [],
   "source": [
    "SEED = 42\n",
    "IMG_SIZE = 256\n",
    "N_MATCHES = 5\n",
    "\n",
    "PROJECT_FOLDER = \"../input/hotel-id-to-combat-human-trafficking-2022-fgvc9/\"\n",
    "TRAIN_DATA_FOLDER = \"../input/hotelid-2022-train-images-256x256/images/\"\n",
    "TEST_DATA_FOLDER = PROJECT_FOLDER + \"test_images/\""
   ]
  },
  {
   "cell_type": "code",
   "execution_count": 4,
   "id": "ccc93997",
   "metadata": {
    "execution": {
     "iopub.execute_input": "2022-08-01T15:10:31.110229Z",
     "iopub.status.busy": "2022-08-01T15:10:31.109149Z",
     "iopub.status.idle": "2022-08-01T15:10:31.113427Z",
     "shell.execute_reply": "2022-08-01T15:10:31.113995Z",
     "shell.execute_reply.started": "2022-08-01T15:09:03.969877Z"
    },
    "papermill": {
     "duration": 0.031383,
     "end_time": "2022-08-01T15:10:31.114141",
     "exception": false,
     "start_time": "2022-08-01T15:10:31.082758",
     "status": "completed"
    },
    "tags": []
   },
   "outputs": [
    {
     "name": "stdout",
     "output_type": "stream",
     "text": [
      "['sample_submission.csv', 'train_images', 'train_masks', 'test_images']\n"
     ]
    }
   ],
   "source": [
    "print(os.listdir(PROJECT_FOLDER))"
   ]
  },
  {
   "cell_type": "code",
   "execution_count": 5,
   "id": "aad2b32d",
   "metadata": {
    "execution": {
     "iopub.execute_input": "2022-08-01T15:10:31.167291Z",
     "iopub.status.busy": "2022-08-01T15:10:31.166341Z",
     "iopub.status.idle": "2022-08-01T15:10:31.169566Z",
     "shell.execute_reply": "2022-08-01T15:10:31.168990Z",
     "shell.execute_reply.started": "2022-08-01T15:09:03.988908Z"
    },
    "papermill": {
     "duration": 0.032062,
     "end_time": "2022-08-01T15:10:31.169693",
     "exception": false,
     "start_time": "2022-08-01T15:10:31.137631",
     "status": "completed"
    },
    "tags": []
   },
   "outputs": [],
   "source": [
    "def seed_everything(seed):\n",
    "    random.seed(seed)\n",
    "    os.environ['PYTHONHASHSEED'] = str(seed)\n",
    "    np.random.seed(seed)\n",
    "    torch.manual_seed(seed)\n",
    "    torch.cuda.manual_seed(seed)\n",
    "    torch.backends.cudnn.deterministic = True"
   ]
  },
  {
   "cell_type": "code",
   "execution_count": 6,
   "id": "5652963c",
   "metadata": {
    "execution": {
     "iopub.execute_input": "2022-08-01T15:10:31.221271Z",
     "iopub.status.busy": "2022-08-01T15:10:31.220362Z",
     "iopub.status.idle": "2022-08-01T15:10:32.567346Z",
     "shell.execute_reply": "2022-08-01T15:10:32.567918Z",
     "shell.execute_reply.started": "2022-08-01T15:09:03.999748Z"
    },
    "papermill": {
     "duration": 1.375514,
     "end_time": "2022-08-01T15:10:32.568109",
     "exception": false,
     "start_time": "2022-08-01T15:10:31.192595",
     "status": "completed"
    },
    "tags": []
   },
   "outputs": [],
   "source": [
    "import albumentations as A\n",
    "import albumentations.pytorch as APT\n",
    "import cv2 \n",
    "\n",
    "base_transform = A.Compose([\n",
    "    A.ToFloat(),\n",
    "    APT.transforms.ToTensorV2(),\n",
    "])"
   ]
  },
  {
   "cell_type": "code",
   "execution_count": 7,
   "id": "4ed0d9e0",
   "metadata": {
    "execution": {
     "iopub.execute_input": "2022-08-01T15:10:32.628114Z",
     "iopub.status.busy": "2022-08-01T15:10:32.627079Z",
     "iopub.status.idle": "2022-08-01T15:10:32.632966Z",
     "shell.execute_reply": "2022-08-01T15:10:32.632289Z",
     "shell.execute_reply.started": "2022-08-01T15:09:05.397811Z"
    },
    "papermill": {
     "duration": 0.03924,
     "end_time": "2022-08-01T15:10:32.633118",
     "exception": false,
     "start_time": "2022-08-01T15:10:32.593878",
     "status": "completed"
    },
    "tags": []
   },
   "outputs": [],
   "source": [
    "def pad_image(img):\n",
    "    w, h, c = np.shape(img)\n",
    "    if w > h:\n",
    "        pad = int((w - h) / 2)\n",
    "        img = cv2.copyMakeBorder(img, 0, 0, pad, pad, cv2.BORDER_CONSTANT, value=0)\n",
    "    else:\n",
    "        pad = int((h - w) / 2)\n",
    "        img = cv2.copyMakeBorder(img, pad, pad, 0, 0, cv2.BORDER_CONSTANT, value=0)\n",
    "        \n",
    "    return img\n",
    "\n",
    "\n",
    "def open_and_preprocess_image(image_path):\n",
    "    img = cv2.imread(image_path)\n",
    "    img = cv2.cvtColor(img, cv2.COLOR_BGR2RGB)\n",
    "    img = pad_image(img)\n",
    "    return cv2.resize(img, (IMG_SIZE, IMG_SIZE))"
   ]
  },
  {
   "cell_type": "code",
   "execution_count": 8,
   "id": "387d7e08",
   "metadata": {
    "execution": {
     "iopub.execute_input": "2022-08-01T15:10:32.686200Z",
     "iopub.status.busy": "2022-08-01T15:10:32.685102Z",
     "iopub.status.idle": "2022-08-01T15:10:32.694226Z",
     "shell.execute_reply": "2022-08-01T15:10:32.693591Z",
     "shell.execute_reply.started": "2022-08-01T15:09:05.411577Z"
    },
    "papermill": {
     "duration": 0.037398,
     "end_time": "2022-08-01T15:10:32.694359",
     "exception": false,
     "start_time": "2022-08-01T15:10:32.656961",
     "status": "completed"
    },
    "tags": []
   },
   "outputs": [],
   "source": [
    "class HotelImageDataset:\n",
    "    def __init__(self, data, transform=None, data_folder=\"train_images/\"):\n",
    "        self.data = data\n",
    "        self.data_folder = data_folder\n",
    "        self.transform = transform\n",
    "\n",
    "    def __len__(self):\n",
    "        return len(self.data)\n",
    "    \n",
    "    def __getitem__(self, idx):\n",
    "        record = self.data.iloc[idx]\n",
    "        image_path = self.data_folder + record[\"image_id\"]\n",
    "        \n",
    "        image = np.array(open_and_preprocess_image(image_path)).astype(np.uint8)\n",
    "\n",
    "        if self.transform:\n",
    "            transformed = self.transform(image=image)\n",
    "            image = transformed[\"image\"]\n",
    "        \n",
    "        return {\n",
    "            \"image\" : image,\n",
    "        }"
   ]
  },
  {
   "cell_type": "code",
   "execution_count": 9,
   "id": "05e95b22",
   "metadata": {
    "execution": {
     "iopub.execute_input": "2022-08-01T15:10:32.768196Z",
     "iopub.status.busy": "2022-08-01T15:10:32.767240Z",
     "iopub.status.idle": "2022-08-01T15:10:32.770430Z",
     "shell.execute_reply": "2022-08-01T15:10:32.769825Z",
     "shell.execute_reply.started": "2022-08-01T15:09:05.424849Z"
    },
    "papermill": {
     "duration": 0.04867,
     "end_time": "2022-08-01T15:10:32.770607",
     "exception": false,
     "start_time": "2022-08-01T15:10:32.721937",
     "status": "completed"
    },
    "tags": []
   },
   "outputs": [],
   "source": [
    "class EmbeddingModel(nn.Module):\n",
    "    def __init__(self, n_classes=100, embedding_size=64, backbone_name=\"efficientnet_b0\"):\n",
    "        super(EmbeddingModel, self).__init__()\n",
    "        \n",
    "        self.backbone = timm.create_model(backbone_name, num_classes=n_classes, pretrained=False)\n",
    "        in_features = self.backbone.get_classifier().in_features\n",
    "        \n",
    "        self.backbone.classifier = nn.Identity()\n",
    "        self.embedding = nn.Linear(in_features, embedding_size)\n",
    "        self.classifier = nn.Linear(embedding_size, n_classes)\n",
    "\n",
    "    def embed_and_classify(self, x):\n",
    "        x = self.forward(x)\n",
    "        return x, self.classifier(x)\n",
    "\n",
    "    def forward(self, x):\n",
    "        x = self.backbone(x)\n",
    "        x = x.view(x.size(0), -1)\n",
    "        x = self.embedding(x)\n",
    "        return x"
   ]
  },
  {
   "cell_type": "code",
   "execution_count": 10,
   "id": "5efba1d4",
   "metadata": {
    "execution": {
     "iopub.execute_input": "2022-08-01T15:10:32.825428Z",
     "iopub.status.busy": "2022-08-01T15:10:32.820306Z",
     "iopub.status.idle": "2022-08-01T15:10:32.827848Z",
     "shell.execute_reply": "2022-08-01T15:10:32.828397Z",
     "shell.execute_reply.started": "2022-08-01T15:09:05.444897Z"
    },
    "papermill": {
     "duration": 0.034385,
     "end_time": "2022-08-01T15:10:32.828600",
     "exception": false,
     "start_time": "2022-08-01T15:10:32.794215",
     "status": "completed"
    },
    "tags": []
   },
   "outputs": [],
   "source": [
    "def generate_embeddings(args, loader, model, bar_desc=\"Generating embeds\"):\n",
    "    outputs_all = []\n",
    "    \n",
    "    model.eval()\n",
    "    with torch.no_grad():\n",
    "        t = tqdm(loader, desc=bar_desc)\n",
    "        for i, sample in enumerate(t):\n",
    "            input = sample['image'].to(args.device)\n",
    "            output = model(input)\n",
    "            outputs_all.extend(output.detach().cpu().numpy())\n",
    "            \n",
    "    return outputs_all"
   ]
  },
  {
   "cell_type": "code",
   "execution_count": 11,
   "id": "379c946e",
   "metadata": {
    "execution": {
     "iopub.execute_input": "2022-08-01T15:10:32.888713Z",
     "iopub.status.busy": "2022-08-01T15:10:32.887627Z",
     "iopub.status.idle": "2022-08-01T15:10:32.890993Z",
     "shell.execute_reply": "2022-08-01T15:10:32.890400Z",
     "shell.execute_reply.started": "2022-08-01T15:09:05.457047Z"
    },
    "papermill": {
     "duration": 0.037452,
     "end_time": "2022-08-01T15:10:32.891136",
     "exception": false,
     "start_time": "2022-08-01T15:10:32.853684",
     "status": "completed"
    },
    "tags": []
   },
   "outputs": [],
   "source": [
    "def find_matches(query, base_embeds, base_targets, k=N_MATCHES):\n",
    "    distance_df = pd.DataFrame(index=np.arange(len(base_targets)), data={\"hotel_id\": base_targets})\n",
    "    # calculate cosine distance of query embeds to all base embeds\n",
    "    distance_df[\"distance\"] = cosine_similarity([query], list(base_embeds))[0]\n",
    "    # sort by distance and hotel_id\n",
    "    distance_df = distance_df.sort_values(by=[\"distance\", \"hotel_id\"], ascending=False).reset_index(drop=True)\n",
    "    # return first 5 different hotel_id_codes\n",
    "    return distance_df[\"hotel_id\"].unique()[:N_MATCHES]\n",
    "\n",
    "\n",
    "def predict(args, base_embeddings_df, test_loader, model):\n",
    "    test_embeds = generate_embeddings(args, test_loader, model, \"Generate test embeddings\")\n",
    "    \n",
    "    preds = []\n",
    "    for query_embeds in tqdm(test_embeds, desc=\"Similarity - match finding\"):\n",
    "        tmp = find_matches(query_embeds, \n",
    "                           base_embeddings_df[\"embeddings\"].values, \n",
    "                           base_embeddings_df[\"hotel_id\"].values)\n",
    "        preds.extend([tmp])\n",
    "        \n",
    "    return preds"
   ]
  },
  {
   "cell_type": "code",
   "execution_count": 12,
   "id": "82012f17",
   "metadata": {
    "execution": {
     "iopub.execute_input": "2022-08-01T15:10:32.945250Z",
     "iopub.status.busy": "2022-08-01T15:10:32.944552Z",
     "iopub.status.idle": "2022-08-01T15:10:32.959966Z",
     "shell.execute_reply": "2022-08-01T15:10:32.960534Z",
     "shell.execute_reply.started": "2022-08-01T15:09:05.473046Z"
    },
    "papermill": {
     "duration": 0.045627,
     "end_time": "2022-08-01T15:10:32.960712",
     "exception": false,
     "start_time": "2022-08-01T15:10:32.915085",
     "status": "completed"
    },
    "tags": []
   },
   "outputs": [],
   "source": [
    "test_df = pd.DataFrame(data={\"image_id\": os.listdir(TEST_DATA_FOLDER), \"hotel_id\": \"\"}).sort_values(by=\"image_id\")"
   ]
  },
  {
   "cell_type": "code",
   "execution_count": 13,
   "id": "d9140d01",
   "metadata": {
    "execution": {
     "iopub.execute_input": "2022-08-01T15:10:33.025557Z",
     "iopub.status.busy": "2022-08-01T15:10:33.024551Z",
     "iopub.status.idle": "2022-08-01T15:10:33.027682Z",
     "shell.execute_reply": "2022-08-01T15:10:33.027040Z",
     "shell.execute_reply.started": "2022-08-01T15:09:05.508688Z"
    },
    "papermill": {
     "duration": 0.041942,
     "end_time": "2022-08-01T15:10:33.027872",
     "exception": false,
     "start_time": "2022-08-01T15:10:32.985930",
     "status": "completed"
    },
    "tags": []
   },
   "outputs": [],
   "source": [
    "def get_model(backbone_name, checkpoint_path, args):\n",
    "    model = EmbeddingModel(args.n_classes, args.embedding_size, backbone_name)\n",
    "        \n",
    "    checkpoint = torch.load(checkpoint_path)\n",
    "    model.load_state_dict(checkpoint[\"model\"])\n",
    "    model = model.to(args.device)\n",
    "    \n",
    "    return model"
   ]
  },
  {
   "cell_type": "code",
   "execution_count": 14,
   "id": "df0859d2",
   "metadata": {
    "execution": {
     "iopub.execute_input": "2022-08-01T15:10:33.152443Z",
     "iopub.status.busy": "2022-08-01T15:10:33.151292Z",
     "iopub.status.idle": "2022-08-01T15:10:33.157956Z",
     "shell.execute_reply": "2022-08-01T15:10:33.157311Z",
     "shell.execute_reply.started": "2022-08-01T15:09:05.518483Z"
    },
    "papermill": {
     "duration": 0.106438,
     "end_time": "2022-08-01T15:10:33.158114",
     "exception": false,
     "start_time": "2022-08-01T15:10:33.051676",
     "status": "completed"
    },
    "tags": []
   },
   "outputs": [],
   "source": [
    "class args:\n",
    "    batch_size = 64\n",
    "    num_workers = 2\n",
    "    embedding_size = 128\n",
    "    device = ('cuda' if torch.cuda.is_available() else 'cpu')\n",
    "    \n",
    "    \n",
    "seed_everything(seed=SEED)\n",
    "\n",
    "test_dataset = HotelImageDataset(test_df, base_transform, data_folder=TEST_DATA_FOLDER)\n",
    "test_loader  = DataLoader(test_dataset, num_workers=args.num_workers, batch_size=args.batch_size, shuffle=False)"
   ]
  },
  {
   "cell_type": "code",
   "execution_count": 15,
   "id": "471ded38",
   "metadata": {
    "execution": {
     "iopub.execute_input": "2022-08-01T15:10:33.209885Z",
     "iopub.status.busy": "2022-08-01T15:10:33.208865Z",
     "iopub.status.idle": "2022-08-01T15:10:33.760506Z",
     "shell.execute_reply": "2022-08-01T15:10:33.761071Z",
     "shell.execute_reply.started": "2022-08-01T15:09:05.604241Z"
    },
    "papermill": {
     "duration": 0.579396,
     "end_time": "2022-08-01T15:10:33.761333",
     "exception": false,
     "start_time": "2022-08-01T15:10:33.181937",
     "status": "completed"
    },
    "tags": []
   },
   "outputs": [
    {
     "data": {
      "text/html": [
       "<div>\n",
       "<style scoped>\n",
       "    .dataframe tbody tr th:only-of-type {\n",
       "        vertical-align: middle;\n",
       "    }\n",
       "\n",
       "    .dataframe tbody tr th {\n",
       "        vertical-align: top;\n",
       "    }\n",
       "\n",
       "    .dataframe thead th {\n",
       "        text-align: right;\n",
       "    }\n",
       "</style>\n",
       "<table border=\"1\" class=\"dataframe\">\n",
       "  <thead>\n",
       "    <tr style=\"text-align: right;\">\n",
       "      <th></th>\n",
       "      <th>image_id</th>\n",
       "      <th>hotel_id</th>\n",
       "      <th>hotel_id_code</th>\n",
       "      <th>embeddings</th>\n",
       "    </tr>\n",
       "  </thead>\n",
       "  <tbody>\n",
       "    <tr>\n",
       "      <th>0</th>\n",
       "      <td>000011648.jpg</td>\n",
       "      <td>15526</td>\n",
       "      <td>603</td>\n",
       "      <td>[0.8519523, -5.2679715, 4.1436863, -0.46450266...</td>\n",
       "    </tr>\n",
       "    <tr>\n",
       "      <th>1</th>\n",
       "      <td>000011630.jpg</td>\n",
       "      <td>15526</td>\n",
       "      <td>603</td>\n",
       "      <td>[3.7307467, 1.4886054, -1.9971507, 8.035434, -...</td>\n",
       "    </tr>\n",
       "    <tr>\n",
       "      <th>2</th>\n",
       "      <td>000011650.jpg</td>\n",
       "      <td>15526</td>\n",
       "      <td>603</td>\n",
       "      <td>[1.1946068, 1.2052162, 0.3841054, 6.0611763, -...</td>\n",
       "    </tr>\n",
       "    <tr>\n",
       "      <th>3</th>\n",
       "      <td>000011633.jpg</td>\n",
       "      <td>15526</td>\n",
       "      <td>603</td>\n",
       "      <td>[1.8398345, 1.6225969, 3.5404224, -1.5518959, ...</td>\n",
       "    </tr>\n",
       "    <tr>\n",
       "      <th>4</th>\n",
       "      <td>000011656.jpg</td>\n",
       "      <td>15526</td>\n",
       "      <td>603</td>\n",
       "      <td>[-2.3661568, -0.877021, -5.0718284, -4.0283575...</td>\n",
       "    </tr>\n",
       "  </tbody>\n",
       "</table>\n",
       "</div>"
      ],
      "text/plain": [
       "        image_id  hotel_id  hotel_id_code  \\\n",
       "0  000011648.jpg     15526            603   \n",
       "1  000011630.jpg     15526            603   \n",
       "2  000011650.jpg     15526            603   \n",
       "3  000011633.jpg     15526            603   \n",
       "4  000011656.jpg     15526            603   \n",
       "\n",
       "                                          embeddings  \n",
       "0  [0.8519523, -5.2679715, 4.1436863, -0.46450266...  \n",
       "1  [3.7307467, 1.4886054, -1.9971507, 8.035434, -...  \n",
       "2  [1.1946068, 1.2052162, 0.3841054, 6.0611763, -...  \n",
       "3  [1.8398345, 1.6225969, 3.5404224, -1.5518959, ...  \n",
       "4  [-2.3661568, -0.877021, -5.0718284, -4.0283575...  "
      ]
     },
     "metadata": {},
     "output_type": "display_data"
    }
   ],
   "source": [
    "base_embeddings_df = pd.read_pickle('../input/hotel-id-starter-similarity-training-0712/embedding-model-efficientnet_b0-256x256_image-embeddings.pkl')\n",
    "display(base_embeddings_df.head())"
   ]
  },
  {
   "cell_type": "code",
   "execution_count": 16,
   "id": "88c86979",
   "metadata": {
    "execution": {
     "iopub.execute_input": "2022-08-01T15:10:33.818714Z",
     "iopub.status.busy": "2022-08-01T15:10:33.818007Z",
     "iopub.status.idle": "2022-08-01T15:10:38.660435Z",
     "shell.execute_reply": "2022-08-01T15:10:38.659729Z",
     "shell.execute_reply.started": "2022-08-01T15:09:06.290250Z"
    },
    "papermill": {
     "duration": 4.873733,
     "end_time": "2022-08-01T15:10:38.660717",
     "exception": false,
     "start_time": "2022-08-01T15:10:33.786984",
     "status": "completed"
    },
    "tags": []
   },
   "outputs": [],
   "source": [
    "args.n_classes = base_embeddings_df[\"hotel_id\"].nunique()\n",
    "\n",
    "model = get_model(\"efficientnet_b0\",\n",
    "                  \"../input/hotel-id-starter-similarity-training-0712/checkpoint-embedding-model-efficientnet_b0-256x256.pt\", \n",
    "                  args)"
   ]
  },
  {
   "cell_type": "code",
   "execution_count": 17,
   "id": "78f1015a",
   "metadata": {
    "execution": {
     "iopub.execute_input": "2022-08-01T15:10:38.721919Z",
     "iopub.status.busy": "2022-08-01T15:10:38.720814Z",
     "iopub.status.idle": "2022-08-01T15:10:45.734292Z",
     "shell.execute_reply": "2022-08-01T15:10:45.735324Z",
     "shell.execute_reply.started": "2022-08-01T15:09:11.625089Z"
    },
    "papermill": {
     "duration": 7.050461,
     "end_time": "2022-08-01T15:10:45.735651",
     "exception": false,
     "start_time": "2022-08-01T15:10:38.685190",
     "status": "completed"
    },
    "tags": []
   },
   "outputs": [
    {
     "name": "stderr",
     "output_type": "stream",
     "text": [
      "Generate test embeddings: 100%|██████████| 1/1 [00:06<00:00,  6.86s/it]\n",
      "Similarity - match finding: 100%|██████████| 1/1 [00:00<00:00,  8.24it/s]"
     ]
    },
    {
     "name": "stdout",
     "output_type": "stream",
     "text": [
      "CPU times: user 925 ms, sys: 966 ms, total: 1.89 s\n",
      "Wall time: 7 s\n"
     ]
    },
    {
     "name": "stderr",
     "output_type": "stream",
     "text": [
      "\n"
     ]
    },
    {
     "data": {
      "text/html": [
       "<div>\n",
       "<style scoped>\n",
       "    .dataframe tbody tr th:only-of-type {\n",
       "        vertical-align: middle;\n",
       "    }\n",
       "\n",
       "    .dataframe tbody tr th {\n",
       "        vertical-align: top;\n",
       "    }\n",
       "\n",
       "    .dataframe thead th {\n",
       "        text-align: right;\n",
       "    }\n",
       "</style>\n",
       "<table border=\"1\" class=\"dataframe\">\n",
       "  <thead>\n",
       "    <tr style=\"text-align: right;\">\n",
       "      <th></th>\n",
       "      <th>image_id</th>\n",
       "      <th>hotel_id</th>\n",
       "    </tr>\n",
       "  </thead>\n",
       "  <tbody>\n",
       "    <tr>\n",
       "      <th>0</th>\n",
       "      <td>abc.jpg</td>\n",
       "      <td>10191 18549 28200 309609 206615</td>\n",
       "    </tr>\n",
       "  </tbody>\n",
       "</table>\n",
       "</div>"
      ],
      "text/plain": [
       "  image_id                         hotel_id\n",
       "0  abc.jpg  10191 18549 28200 309609 206615"
      ]
     },
     "execution_count": 17,
     "metadata": {},
     "output_type": "execute_result"
    }
   ],
   "source": [
    "%%time\n",
    "\n",
    "preds = predict(args, base_embeddings_df, test_loader, model)\n",
    "# transform array of hotel_ids into string\n",
    "test_df[\"hotel_id\"] = [str(list(l)).strip(\"[]\").replace(\",\", \"\") for l in preds]\n",
    "\n",
    "test_df.to_csv(\"submission.csv\", index=False)\n",
    "test_df.head()"
   ]
  },
  {
   "cell_type": "code",
   "execution_count": null,
   "id": "2cdabfa5",
   "metadata": {
    "papermill": {
     "duration": 0.029405,
     "end_time": "2022-08-01T15:10:45.812585",
     "exception": false,
     "start_time": "2022-08-01T15:10:45.783180",
     "status": "completed"
    },
    "tags": []
   },
   "outputs": [],
   "source": []
  }
 ],
 "metadata": {
  "kernelspec": {
   "display_name": "Python 3",
   "language": "python",
   "name": "python3"
  },
  "language_info": {
   "codemirror_mode": {
    "name": "ipython",
    "version": 3
   },
   "file_extension": ".py",
   "mimetype": "text/x-python",
   "name": "python",
   "nbconvert_exporter": "python",
   "pygments_lexer": "ipython3",
   "version": "3.7.12"
  },
  "papermill": {
   "default_parameters": {},
   "duration": 32.377807,
   "end_time": "2022-08-01T15:10:47.658690",
   "environment_variables": {},
   "exception": null,
   "input_path": "__notebook__.ipynb",
   "output_path": "__notebook__.ipynb",
   "parameters": {},
   "start_time": "2022-08-01T15:10:15.280883",
   "version": "2.3.3"
  }
 },
 "nbformat": 4,
 "nbformat_minor": 5
}
